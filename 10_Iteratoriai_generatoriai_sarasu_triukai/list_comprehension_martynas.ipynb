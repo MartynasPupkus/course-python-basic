{
 "cells": [
  {
   "cell_type": "code",
   "execution_count": 7,
   "metadata": {},
   "outputs": [
    {
     "name": "stdout",
     "output_type": "stream",
     "text": [
      "2 + 3 = 5\n",
      "5 + 5 = 10\n",
      "10 + 7 = 17\n",
      "17 + 11 = 28\n",
      "28 + 4 = 32\n",
      "32 + 32 = 64\n",
      "64 + -17 = 47\n",
      "47 + 42 = 89\n",
      "89 + 69 = 158\n",
      "158\n"
     ]
    }
   ],
   "source": [
    "from functools import reduce\n",
    "\n",
    "def sumuojam(x, y):\n",
    "    rez = x + y\n",
    "    print(f'{x} + {y} = {rez}')\n",
    "    return rez\n",
    "\n",
    "skaiciai = [2, 3, 5, 7, 11, 4, 32, -17, 42, 69]\n",
    "sum = reduce(sumuojam, skaiciai)\n",
    "print(sum)"
   ]
  },
  {
   "cell_type": "code",
   "execution_count": 1,
   "metadata": {},
   "outputs": [
    {
     "ename": "NameError",
     "evalue": "name 'reduce' is not defined",
     "output_type": "error",
     "traceback": [
      "\u001b[1;31m---------------------------------------------------------------------------\u001b[0m",
      "\u001b[1;31mNameError\u001b[0m                                 Traceback (most recent call last)",
      "Cell \u001b[1;32mIn[1], line 2\u001b[0m\n\u001b[0;32m      1\u001b[0m skaiciai \u001b[38;5;241m=\u001b[39m [\u001b[38;5;241m2\u001b[39m, \u001b[38;5;241m3\u001b[39m, \u001b[38;5;241m5\u001b[39m, \u001b[38;5;241m7\u001b[39m, \u001b[38;5;241m11\u001b[39m, \u001b[38;5;241m4\u001b[39m, \u001b[38;5;241m32\u001b[39m, \u001b[38;5;241m-\u001b[39m\u001b[38;5;241m17\u001b[39m, \u001b[38;5;241m42\u001b[39m, \u001b[38;5;241m69\u001b[39m]\n\u001b[1;32m----> 2\u001b[0m \u001b[38;5;28msum\u001b[39m \u001b[38;5;241m=\u001b[39m \u001b[43mreduce\u001b[49m(sumuojam, skaiciai)\n\u001b[0;32m      3\u001b[0m \u001b[38;5;28mprint\u001b[39m(\u001b[38;5;28msum\u001b[39m)\n",
      "\u001b[1;31mNameError\u001b[0m: name 'reduce' is not defined"
     ]
    }
   ],
   "source": [
    "skaiciai = [2, 3, 5, 7, 11, 4, 32, -17, 42, 69]\n",
    "sum = reduce(sumuojam, skaiciai)\n",
    "print(sum)"
   ]
  },
  {
   "cell_type": "code",
   "execution_count": 4,
   "metadata": {},
   "outputs": [
    {
     "data": {
      "text/plain": [
       "[2, 3, 5, 7, 11, 4, 32, -17, 42, 69]"
      ]
     },
     "execution_count": 4,
     "metadata": {},
     "output_type": "execute_result"
    }
   ],
   "source": [
    "skaiciai"
   ]
  },
  {
   "cell_type": "code",
   "execution_count": 6,
   "metadata": {},
   "outputs": [
    {
     "name": "stdout",
     "output_type": "stream",
     "text": [
      "[0.2, 0.3, 0.5, 0.7, 1.1, 0.4, 3.2, -1.7, 4.2, 6.9]\n"
     ]
    }
   ],
   "source": [
    "div_10_skaiciai = [skaicius / 10 for skaicius in skaiciai]\n",
    "print(div_10_skaiciai)"
   ]
  },
  {
   "cell_type": "code",
   "execution_count": 8,
   "metadata": {},
   "outputs": [
    {
     "data": {
      "text/plain": [
       "[2, 4, 32, 42]"
      ]
     },
     "execution_count": 8,
     "metadata": {},
     "output_type": "execute_result"
    }
   ],
   "source": [
    "salyga = lambda skaicius: skaicius % 2 == 0 \n",
    "lyginiai = [skaicius for skaicius in skaiciai if salyga(skaicius)]\n",
    "lyginiai\n"
   ]
  },
  {
   "cell_type": "code",
   "execution_count": 10,
   "metadata": {},
   "outputs": [
    {
     "name": "stdout",
     "output_type": "stream",
     "text": [
      "[2, 3, 5, 7, 11, 4, 32, -17, 42, 69]\n"
     ]
    },
    {
     "data": {
      "text/plain": [
       "[True, False, False, False, False, True, True, False, True, False]"
      ]
     },
     "execution_count": 10,
     "metadata": {},
     "output_type": "execute_result"
    }
   ],
   "source": [
    "print(skaiciai)\n",
    "ar_lyginiai = [skaicius % 2 == 0 for skaicius in skaiciai]\n",
    "ar_lyginiai"
   ]
  },
  {
   "cell_type": "code",
   "execution_count": 1,
   "metadata": {},
   "outputs": [
    {
     "ename": "NameError",
     "evalue": "name 'isrinkti_lyginius' is not defined",
     "output_type": "error",
     "traceback": [
      "\u001b[1;31m---------------------------------------------------------------------------\u001b[0m",
      "\u001b[1;31mNameError\u001b[0m                                 Traceback (most recent call last)",
      "Cell \u001b[1;32mIn[1], line 2\u001b[0m\n\u001b[0;32m      1\u001b[0m lyginiai_loginiai \u001b[38;5;241m=\u001b[39m \u001b[38;5;28;01mlambda\u001b[39;00m sk: sk \u001b[38;5;28;01mif\u001b[39;00m sk \u001b[38;5;241m%\u001b[39m \u001b[38;5;241m2\u001b[39m \u001b[38;5;241m==\u001b[39m \u001b[38;5;241m0\u001b[39m \u001b[38;5;28;01melse\u001b[39;00m \u001b[38;5;28;01mNone\u001b[39;00m\n\u001b[1;32m----> 2\u001b[0m lyginiai_loginiai \u001b[38;5;241m=\u001b[39m [\u001b[43misrinkti_lyginius\u001b[49m(skaicius)]\n",
      "\u001b[1;31mNameError\u001b[0m: name 'isrinkti_lyginius' is not defined"
     ]
    }
   ],
   "source": [
    "lyginiai_loginiai = lambda sk: sk if sk % 2 == 0 else None\n",
    "lyginiai_loginiai = [isrinkti_lyginius(skaicius)]"
   ]
  },
  {
   "cell_type": "code",
   "execution_count": 11,
   "metadata": {},
   "outputs": [
    {
     "data": {
      "text/plain": [
       "[4, 9, 25, 49, 121, 16, 1024, 289, 1764, 4761]"
      ]
     },
     "execution_count": 11,
     "metadata": {},
     "output_type": "execute_result"
    }
   ],
   "source": [
    "kvadratai = [(lambda sk: sk **2)(x) for x in skaiciai]\n",
    "kvadratai"
   ]
  },
  {
   "cell_type": "code",
   "execution_count": 13,
   "metadata": {},
   "outputs": [
    {
     "data": {
      "text/plain": [
       "69"
      ]
     },
     "execution_count": 13,
     "metadata": {},
     "output_type": "execute_result"
    }
   ],
   "source": [
    "didziausias = reduce(lambda x, y: x if x > y else y, skaiciai)\n",
    "didziausias"
   ]
  },
  {
   "cell_type": "code",
   "execution_count": 17,
   "metadata": {},
   "outputs": [
    {
     "data": {
      "text/plain": [
       "<generator object <genexpr> at 0x000001C14C918EE0>"
      ]
     },
     "execution_count": 17,
     "metadata": {},
     "output_type": "execute_result"
    }
   ],
   "source": [
    "nelyginiai = (sk for sk in skaiciai if sk % 2 != 0)\n",
    "nelyginiai\n"
   ]
  },
  {
   "cell_type": "code",
   "execution_count": 18,
   "metadata": {},
   "outputs": [
    {
     "name": "stdout",
     "output_type": "stream",
     "text": [
      "3 + 5 = 8\n",
      "8 + 7 = 15\n",
      "15 + 11 = 26\n",
      "26 + -17 = 9\n",
      "9 + 69 = 78\n"
     ]
    }
   ],
   "source": [
    "nelyginiu_suma = reduce(sumuojam, nelyginiai)\n"
   ]
  },
  {
   "cell_type": "code",
   "execution_count": 20,
   "metadata": {},
   "outputs": [
    {
     "data": {
      "text/plain": [
       "15.8"
      ]
     },
     "execution_count": 20,
     "metadata": {},
     "output_type": "execute_result"
    }
   ],
   "source": [
    "import statistics\n",
    "statistics.mean(skaiciai)"
   ]
  },
  {
   "cell_type": "code",
   "execution_count": 22,
   "metadata": {},
   "outputs": [
    {
     "data": {
      "text/plain": [
       "[4, 9, 25, 49, 121, 16, 1024, 289, 1764, 4761]"
      ]
     },
     "execution_count": 22,
     "metadata": {},
     "output_type": "execute_result"
    }
   ],
   "source": [
    "map_kvadratai = map(lambda x: x** 2, skaiciai)\n",
    "list(map_kvadratai)"
   ]
  },
  {
   "cell_type": "code",
   "execution_count": 24,
   "metadata": {},
   "outputs": [
    {
     "data": {
      "text/plain": [
       "[3, 5, 7, 11, -17, 69]"
      ]
     },
     "execution_count": 24,
     "metadata": {},
     "output_type": "execute_result"
    }
   ],
   "source": [
    "nelyginiai = filter(lambda x: x if x % 2 != 0 else False, skaiciai)\n",
    "list(nelyginiai)"
   ]
  },
  {
   "cell_type": "code",
   "execution_count": 2,
   "metadata": {},
   "outputs": [],
   "source": [
    "class Studentas:\n",
    "    def __init__(self, vardas, pavarde, pazymiai):\n",
    "        self.vardas = vardas\n",
    "        self.pavarde = pavarde\n",
    "        self.pazymiai = pazymiai\n",
    "\n",
    "    def vidurkis(self):\n",
    "        return sum(self.pazymiai) / len(self.pazymiai)\n",
    "\n",
    "    def __str__(self) -> str:\n",
    "        return f'{self.vardas} {self.pavarde}: {self.vidurkis():.1f}'\n",
    "\n",
    "    def __repr__(self) -> str:\n",
    "        return f'({self.vardas}, {self.pavarde}, {self.vidurkis():.1f})'\n",
    "    \n",
    "studentai = [\n",
    "    Studentas(\"Jonas\", \"Jonaitis\", [8, 9, 7]),\n",
    "    Studentas(\"Petras\", \"Petraitis\", [10, 9, 10]),\n",
    "    Studentas(\"Kazys\", \"Petraitis\", [7, 2, 10, 6]),\n",
    "    Studentas(\"Ona\", \"Onaitė\", [6, 8, 7]),\n",
    "]\n"
   ]
  },
  {
   "cell_type": "code",
   "execution_count": 3,
   "metadata": {},
   "outputs": [
    {
     "name": "stdout",
     "output_type": "stream",
     "text": [
      "[(Petras, Petraitis, 9.7), (Jonas, Jonaitis, 8.0), (Ona, Onaitė, 7.0), (Kazys, Petraitis, 6.2)]\n"
     ]
    }
   ],
   "source": [
    "pirmunai = sorted(studentai, key = lambda x: x.vidurkis(), reverse=True)\n",
    "print(pirmunai)"
   ]
  },
  {
   "cell_type": "code",
   "execution_count": 4,
   "metadata": {},
   "outputs": [
    {
     "name": "stdout",
     "output_type": "stream",
     "text": [
      "[(Jonas, Jonaitis, 8.0), (Ona, Onaitė, 7.0), (Kazys, Petraitis, 6.2), (Petras, Petraitis, 9.7)]\n"
     ]
    }
   ],
   "source": [
    "from operator import attrgetter\n",
    "pagal_pavarde = sorted(studentai, key=attrgetter('pavarde', 'vardas'))\n",
    "print(pagal_pavarde)"
   ]
  },
  {
   "cell_type": "code",
   "execution_count": 5,
   "metadata": {},
   "outputs": [
    {
     "name": "stdout",
     "output_type": "stream",
     "text": [
      "Petras Petraitis - 9.666666666666666\n",
      "Jonas Jonaitis - 8.0\n",
      "Ona Onaitė - 7.0\n"
     ]
    }
   ],
   "source": [
    "class Studentas:\n",
    "    def __init__(self, vardas, pavarde, pazymiai):\n",
    "        self.vardas = vardas\n",
    "        self.pavarde = pavarde\n",
    "        self.pazymiai = pazymiai\n",
    "\n",
    "    def vidurkis(self):\n",
    "        return sum(self.pazymiai) / len(self.pazymiai)\n",
    "\n",
    "studentai = [\n",
    "    Studentas(\"Jonas\", \"Jonaitis\", [8, 9, 7]),\n",
    "    Studentas(\"Petras\", \"Petraitis\", [10, 9, 10]),\n",
    "    Studentas(\"Ona\", \"Onaitė\", [6, 8, 7]),\n",
    "]\n",
    "\n",
    "rusiuoti_studentai = sorted(studentai, key=lambda x: x.vidurkis(), reverse=True)\n",
    "for studentas in rusiuoti_studentai:\n",
    "    print(f\"{studentas.vardas} {studentas.pavarde} - {studentas.vidurkis()}\")"
   ]
  },
  {
   "cell_type": "code",
   "execution_count": 10,
   "metadata": {},
   "outputs": [
    {
     "name": "stdout",
     "output_type": "stream",
     "text": [
      "[22, 24, 26, 28]\n",
      "[22, 24, 26, 28]\n"
     ]
    }
   ],
   "source": [
    "sarasas = [1, 2, 3, 4, 5, 6, 7, 8, 9, 10, 11, 12, 13, 14]\n",
    "rezultatas = map(lambda x: x * 2, filter(lambda x: x > 10, sarasas))\n",
    "print(list(rezultatas))\n",
    "\n",
    "result = [x * 2 for x in sarasas if x > 10]\n",
    "print(result) "
   ]
  },
  {
   "cell_type": "code",
   "execution_count": 11,
   "metadata": {},
   "outputs": [
    {
     "name": "stdout",
     "output_type": "stream",
     "text": [
      "120\n"
     ]
    }
   ],
   "source": [
    "from functools import reduce\n",
    "\n",
    "sarasas = [1, 2, 3, 4, 5]\n",
    "\n",
    "sandauga = reduce(lambda x, y: x * y, sarasas)\n",
    "print(sandauga)"
   ]
  },
  {
   "cell_type": "code",
   "execution_count": 12,
   "metadata": {},
   "outputs": [
    {
     "name": "stdout",
     "output_type": "stream",
     "text": [
      "15\n",
      "3\n",
      "3\n",
      "1\n",
      "5\n"
     ]
    }
   ],
   "source": [
    "import statistics\n",
    "\n",
    "sarasas = [1, 2, 3, 4, 5]\n",
    "\n",
    "print(sum(sarasas))\n",
    "print(statistics.mean(sarasas))\n",
    "print(statistics.median(sarasas))\n",
    "print(min(sarasas))\n",
    "print(max(sarasas))"
   ]
  },
  {
   "cell_type": "code",
   "execution_count": 13,
   "metadata": {},
   "outputs": [
    {
     "name": "stdout",
     "output_type": "stream",
     "text": [
      "[3, 9, 1, 4, 1, 5, 2]\n"
     ]
    }
   ],
   "source": [
    "sarasas = [3, 1, 4, 1, 5, 9, 2]\n",
    "rezultatas = sorted(sarasas, key=lambda x: x % 3)\n",
    "print(rezultatas)"
   ]
  },
  {
   "cell_type": "code",
   "execution_count": 14,
   "metadata": {},
   "outputs": [
    {
     "name": "stdout",
     "output_type": "stream",
     "text": [
      "3.0\n"
     ]
    }
   ],
   "source": [
    "from functools import reduce\n",
    "\n",
    "sarasas = [1, 2, 3, 4, 5]\n",
    "\n",
    "rezultatas = reduce(lambda x, y: x + y, filter(lambda x: x % 2 == 0, sarasas)) / len(list(filter(lambda x: x % 2 == 0, sarasas)))\n",
    "print(rezultatas)\n"
   ]
  },
  {
   "cell_type": "code",
   "execution_count": 15,
   "metadata": {},
   "outputs": [
    {
     "name": "stdout",
     "output_type": "stream",
     "text": [
      "3.0\n"
     ]
    }
   ],
   "source": [
    "rezultatas = sum(x for x in sarasas if x % 2 == 0) / len([x for x in sarasas if x % 2 ==0])\n",
    "print(rezultatas)"
   ]
  }
 ],
 "metadata": {
  "kernelspec": {
   "display_name": "venv",
   "language": "python",
   "name": "python3"
  },
  "language_info": {
   "codemirror_mode": {
    "name": "ipython",
    "version": 3
   },
   "file_extension": ".py",
   "mimetype": "text/x-python",
   "name": "python",
   "nbconvert_exporter": "python",
   "pygments_lexer": "ipython3",
   "version": "3.11.7"
  }
 },
 "nbformat": 4,
 "nbformat_minor": 2
}
