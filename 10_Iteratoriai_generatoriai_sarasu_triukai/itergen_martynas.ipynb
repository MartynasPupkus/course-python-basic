{
 "cells": [
  {
   "cell_type": "code",
   "execution_count": null,
   "metadata": {},
   "outputs": [],
   "source": [
    "skaiciai = [4, 2, 7, 6, 9]\n",
    "skaiciuoklis = iter(skaiciai)\n",
    "skaiciuoklis"
   ]
  },
  {
   "cell_type": "code",
   "execution_count": null,
   "metadata": {},
   "outputs": [],
   "source": [
    "print(next(skaiciuoklis))"
   ]
  },
  {
   "cell_type": "code",
   "execution_count": null,
   "metadata": {},
   "outputs": [],
   "source": [
    "while True:\n",
    "        try:\n",
    "            print(next(skaiciuoklis))\n",
    "        except StopIteration:\n",
    "              break\n",
    "    "
   ]
  },
  {
   "cell_type": "code",
   "execution_count": null,
   "metadata": {},
   "outputs": [],
   "source": [
    "zmogus = {\n",
    "    'vardas': 'Geras',\n",
    "    'pavarde': 'Studentas',\n",
    "    'pazymiai': [10, 9, 10, 10, 9, 10],\n",
    "    'lankomumas': 100\n",
    "}\n",
    "\n",
    "zmogaus_atributai = iter(zmogus. items())\n",
    "\n",
    "while True:\n",
    "    try:\n",
    "        raktas, reiksme = next(zmogaus_atributai)\n",
    "    except StopIteration:\n",
    "        break\n",
    "else:\n",
    "    print(raktas, reiksme)"
   ]
  },
  {
   "cell_type": "code",
   "execution_count": null,
   "metadata": {},
   "outputs": [],
   "source": [
    "skaitliukas = skaiciai_iki_n(10)\n",
    "list(skaitliukas)"
   ]
  },
  {
   "cell_type": "code",
   "execution_count": null,
   "metadata": {},
   "outputs": [],
   "source": []
  },
  {
   "cell_type": "code",
   "execution_count": null,
   "metadata": {},
   "outputs": [],
   "source": [
    "def primes_to_n(limit: int):\n",
    "    current = 2 \n",
    "    while current < limit:\n",
    "        current += 1 \n",
    "        if current % 2 == 0:\n",
    "            continue\n",
    "        for number in range(2, current ):\n",
    "            if current % number == 0:\n",
    "                not_yet_prime = False\n",
    "                break\n",
    "        if not_yet_prime:\n",
    "            yield current\n",
    "        else:\n",
    "            continue\n"
   ]
  },
  {
   "cell_type": "code",
   "execution_count": 10,
   "metadata": {},
   "outputs": [
    {
     "ename": "KeyboardInterrupt",
     "evalue": "",
     "output_type": "error",
     "traceback": [
      "\u001b[1;31m---------------------------------------------------------------------------\u001b[0m",
      "\u001b[1;31mKeyboardInterrupt\u001b[0m                         Traceback (most recent call last)",
      "Cell \u001b[1;32mIn[10], line 2\u001b[0m\n\u001b[0;32m      1\u001b[0m primes_to_100 \u001b[38;5;241m=\u001b[39m primes_to_n(\u001b[38;5;241m100\u001b[39m)\n\u001b[1;32m----> 2\u001b[0m \u001b[38;5;28mprint\u001b[39m(\u001b[38;5;28;43mnext\u001b[39;49m\u001b[43m(\u001b[49m\u001b[43mprimes_to_100\u001b[49m\u001b[43m)\u001b[49m)\n",
      "Cell \u001b[1;32mIn[9], line 5\u001b[0m, in \u001b[0;36mprimes_to_n\u001b[1;34m(limit)\u001b[0m\n\u001b[0;32m      3\u001b[0m \u001b[38;5;28;01mwhile\u001b[39;00m current \u001b[38;5;241m<\u001b[39m limit:\n\u001b[0;32m      4\u001b[0m     \u001b[38;5;28;01mif\u001b[39;00m current \u001b[38;5;241m%\u001b[39m \u001b[38;5;241m2\u001b[39m \u001b[38;5;241m==\u001b[39m \u001b[38;5;241m0\u001b[39m:\n\u001b[1;32m----> 5\u001b[0m         \u001b[38;5;28;01mcontinue\u001b[39;00m\n\u001b[0;32m      6\u001b[0m     \u001b[38;5;28;01mfor\u001b[39;00m number \u001b[38;5;129;01min\u001b[39;00m \u001b[38;5;28mrange\u001b[39m(\u001b[38;5;241m2\u001b[39m, current):\n\u001b[0;32m      7\u001b[0m         \u001b[38;5;28;01mif\u001b[39;00m current \u001b[38;5;241m%\u001b[39m number \u001b[38;5;241m==\u001b[39m \u001b[38;5;241m0\u001b[39m:\n",
      "\u001b[1;31mKeyboardInterrupt\u001b[0m: "
     ]
    }
   ],
   "source": [
    "primes_to_100 = primes_to_n(100)\n",
    "print(next(primes_to_100))"
   ]
  },
  {
   "cell_type": "code",
   "execution_count": 11,
   "metadata": {},
   "outputs": [
    {
     "name": "stdout",
     "output_type": "stream",
     "text": [
      "[2, 3, 5, 7, 11, 13, 17, 19, 23, 29, 31, 37, 41, 43, 47, 53, 59, 61, 67, 71, 73, 79, 83, 89, 97]\n"
     ]
    }
   ],
   "source": [
    "def is_prime(num):\n",
    "    if num <= 1:\n",
    "        return False\n",
    "    for i in range(2, int(num**0.5) + 1):\n",
    "        if num % i == 0:\n",
    "            return False\n",
    "    return True\n",
    "\n",
    "def generate_primes(start, end):\n",
    "    primes = []\n",
    "    for num in range(start, end + 1):\n",
    "        if is_prime(num):\n",
    "            primes.append(num)\n",
    "    return primes\n",
    "\n",
    "# Example usage:\n",
    "start = 1\n",
    "end = 100\n",
    "primes = generate_primes(start, end)\n",
    "print(primes)"
   ]
  },
  {
   "cell_type": "code",
   "execution_count": 12,
   "metadata": {},
   "outputs": [
    {
     "name": "stdout",
     "output_type": "stream",
     "text": [
      "2\n",
      "3\n",
      "5\n",
      "7\n",
      "11\n",
      "13\n",
      "17\n",
      "19\n",
      "23\n",
      "29\n"
     ]
    }
   ],
   "source": [
    "def ar_pirminis(skaicius):\n",
    "    if skaicius < 2:\n",
    "        return False\n",
    "    for i in range(2, skaicius):\n",
    "        if skaicius % i == 0:\n",
    "            return False\n",
    "    return True\n",
    "\n",
    "def pirminiai_iki_n(n):\n",
    "    for skaicius in range(2, n + 1):\n",
    "        if ar_pirminis(skaicius):\n",
    "            yield skaicius\n",
    "\n",
    "pirminiai_generatorius = pirminiai_iki_n(30)\n",
    "\n",
    "for skaicius in pirminiai_generatorius:\n",
    "    print(skaicius)"
   ]
  }
 ],
 "metadata": {
  "kernelspec": {
   "display_name": "venv",
   "language": "python",
   "name": "python3"
  },
  "language_info": {
   "codemirror_mode": {
    "name": "ipython",
    "version": 3
   },
   "file_extension": ".py",
   "mimetype": "text/x-python",
   "name": "python",
   "nbconvert_exporter": "python",
   "pygments_lexer": "ipython3",
   "version": "3.11.7"
  }
 },
 "nbformat": 4,
 "nbformat_minor": 2
}
