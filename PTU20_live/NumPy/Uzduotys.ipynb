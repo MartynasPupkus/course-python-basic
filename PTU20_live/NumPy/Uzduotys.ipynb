{
 "cells": [
  {
   "cell_type": "markdown",
   "metadata": {},
   "source": [
    "# Užduotys\n",
    "**Atkreipkite dėmesį, kad, jeigu neteisingai įvsite atsakymą, Out reikšmė irgi pasikeis**"
   ]
  },
  {
   "cell_type": "code",
   "execution_count": 9,
   "metadata": {},
   "outputs": [],
   "source": [
    "import numpy as np"
   ]
  },
  {
   "cell_type": "markdown",
   "metadata": {},
   "source": [
    "1\\. Sukurkite vektorių su skaičiais nuo 1 iki 9"
   ]
  },
  {
   "cell_type": "code",
   "execution_count": 10,
   "metadata": {},
   "outputs": [
    {
     "data": {
      "text/plain": [
       "array([ 1,  2,  3,  4,  5,  6,  7,  8,  9, 10])"
      ]
     },
     "execution_count": 10,
     "metadata": {},
     "output_type": "execute_result"
    }
   ],
   "source": [
    "np.arange(1, 11)"
   ]
  },
  {
   "cell_type": "markdown",
   "metadata": {},
   "source": [
    "2\\. Sukurkite vektorių iš 10 nulių"
   ]
  },
  {
   "cell_type": "code",
   "execution_count": 11,
   "metadata": {},
   "outputs": [
    {
     "data": {
      "text/plain": [
       "array([0., 0., 0., 0., 0., 0., 0., 0., 0., 0.])"
      ]
     },
     "execution_count": 11,
     "metadata": {},
     "output_type": "execute_result"
    }
   ],
   "source": [
    "np.zeros(10)"
   ]
  },
  {
   "cell_type": "markdown",
   "metadata": {},
   "source": [
    "3\\. Sukurkite vektorių iš 10 vienetų"
   ]
  },
  {
   "cell_type": "code",
   "execution_count": 12,
   "metadata": {},
   "outputs": [
    {
     "data": {
      "text/plain": [
       "array([1., 1., 1., 1., 1., 1., 1., 1., 1., 1.])"
      ]
     },
     "execution_count": 12,
     "metadata": {},
     "output_type": "execute_result"
    }
   ],
   "source": [
    "np.ones(10)"
   ]
  },
  {
   "cell_type": "markdown",
   "metadata": {},
   "source": [
    "4\\. Sukurkite vektorių iš 10 ketvertų"
   ]
  },
  {
   "cell_type": "code",
   "execution_count": 13,
   "metadata": {},
   "outputs": [
    {
     "data": {
      "text/plain": [
       "array([4., 4., 4., 4., 4., 4., 4., 4., 4., 4.])"
      ]
     },
     "execution_count": 13,
     "metadata": {},
     "output_type": "execute_result"
    }
   ],
   "source": [
    "np.ones(10) * 4 "
   ]
  },
  {
   "cell_type": "markdown",
   "metadata": {},
   "source": [
    "5\\. Sukurkite vektorių iš lyginių skaičių nuo 0 iki 100"
   ]
  },
  {
   "cell_type": "code",
   "execution_count": 14,
   "metadata": {},
   "outputs": [
    {
     "data": {
      "text/plain": [
       "array([  0,   2,   4,   6,   8,  10,  12,  14,  16,  18,  20,  22,  24,\n",
       "        26,  28,  30,  32,  34,  36,  38,  40,  42,  44,  46,  48,  50,\n",
       "        52,  54,  56,  58,  60,  62,  64,  66,  68,  70,  72,  74,  76,\n",
       "        78,  80,  82,  84,  86,  88,  90,  92,  94,  96,  98, 100])"
      ]
     },
     "execution_count": 14,
     "metadata": {},
     "output_type": "execute_result"
    }
   ],
   "source": [
    "np.arange(0, 101, 2)"
   ]
  },
  {
   "cell_type": "markdown",
   "metadata": {},
   "source": [
    "6\\. Sukurkite matricą iš 25 narių, pradedant 1, baigiant 25. Priskirkite ją kintamąjam."
   ]
  },
  {
   "cell_type": "code",
   "execution_count": 17,
   "metadata": {},
   "outputs": [
    {
     "name": "stdout",
     "output_type": "stream",
     "text": [
      "[[ 1  2  3  4  5]\n",
      " [ 6  7  8  9 10]\n",
      " [11 12 13 14 15]\n",
      " [16 17 18 19 20]\n",
      " [21 22 23 24 25]]\n"
     ]
    }
   ],
   "source": [
    "arr = np.arange(1, 26).reshape(5, 5)\n",
    "print(arr)"
   ]
  },
  {
   "cell_type": "code",
   "execution_count": null,
   "metadata": {},
   "outputs": [],
   "source": []
  },
  {
   "cell_type": "markdown",
   "metadata": {},
   "source": [
    "7\\. Iš matricos ištraukite skaičių 12"
   ]
  },
  {
   "cell_type": "code",
   "execution_count": 18,
   "metadata": {},
   "outputs": [
    {
     "data": {
      "text/plain": [
       "12"
      ]
     },
     "execution_count": 18,
     "metadata": {},
     "output_type": "execute_result"
    }
   ],
   "source": [
    "arr[2, 1]"
   ]
  },
  {
   "cell_type": "markdown",
   "metadata": {},
   "source": [
    "8\\. Iš matricos ištraukite paskutinę eilutę."
   ]
  },
  {
   "cell_type": "code",
   "execution_count": 19,
   "metadata": {},
   "outputs": [
    {
     "data": {
      "text/plain": [
       "array([21, 22, 23, 24, 25])"
      ]
     },
     "execution_count": 19,
     "metadata": {},
     "output_type": "execute_result"
    }
   ],
   "source": [
    "arr[-1]"
   ]
  },
  {
   "cell_type": "markdown",
   "metadata": {},
   "source": [
    "9\\. Iš matricos ištraukite submatricą\n",
    "\n",
    "1, 2, 3  \n",
    "6, 7, 8  \n",
    "11,12,13"
   ]
  },
  {
   "cell_type": "code",
   "execution_count": 20,
   "metadata": {},
   "outputs": [
    {
     "data": {
      "text/plain": [
       "array([[ 1,  2,  3],\n",
       "       [ 6,  7,  8],\n",
       "       [11, 12, 13]])"
      ]
     },
     "execution_count": 20,
     "metadata": {},
     "output_type": "execute_result"
    }
   ],
   "source": [
    "arr[:3, :3]"
   ]
  },
  {
   "cell_type": "markdown",
   "metadata": {},
   "source": [
    "10\\. Iš matricos ištraukite submatricą\n",
    "\n",
    "7, 8, 9, 10  \n",
    "12, 13, 14, 15  \n",
    "17, 18, 19, 20"
   ]
  },
  {
   "cell_type": "code",
   "execution_count": 22,
   "metadata": {},
   "outputs": [
    {
     "data": {
      "text/plain": [
       "array([[ 7,  8,  9, 10],\n",
       "       [12, 13, 14, 15],\n",
       "       [17, 18, 19, 20]])"
      ]
     },
     "execution_count": 22,
     "metadata": {},
     "output_type": "execute_result"
    }
   ],
   "source": [
    "arr[1:4, 1:]"
   ]
  },
  {
   "cell_type": "markdown",
   "metadata": {},
   "source": [
    "11\\. Iš matricos ištraukite submatricą\n",
    "\n",
    "16, 17, 18  \n",
    "21, 22, 23"
   ]
  },
  {
   "cell_type": "code",
   "execution_count": 21,
   "metadata": {},
   "outputs": [
    {
     "data": {
      "text/plain": [
       "array([[16, 17, 18],\n",
       "       [21, 22, 23]])"
      ]
     },
     "execution_count": 21,
     "metadata": {},
     "output_type": "execute_result"
    }
   ],
   "source": [
    "arr[3:, :3]"
   ]
  },
  {
   "cell_type": "markdown",
   "metadata": {},
   "source": [
    "12\\. Sukurkite vektorių iš 20 atsitiktinių reikšmių nuo 0 iki 1. Priskirkite kintamąjam."
   ]
  },
  {
   "cell_type": "code",
   "execution_count": 24,
   "metadata": {},
   "outputs": [
    {
     "data": {
      "text/plain": [
       "array([0.07444919, 0.69607142, 0.15725745, 0.38024905, 0.96781563,\n",
       "       0.95564319, 0.03115801, 0.5429838 , 0.15900633, 0.87558876,\n",
       "       0.44521716, 0.00381012, 0.60305293, 0.67187157, 0.66654636,\n",
       "       0.50507049, 0.76489024, 0.46478705, 0.9577995 , 0.22386612])"
      ]
     },
     "execution_count": 24,
     "metadata": {},
     "output_type": "execute_result"
    }
   ],
   "source": [
    "randarr = np.random.rand(20)\n",
    "randarr"
   ]
  },
  {
   "cell_type": "code",
   "execution_count": 25,
   "metadata": {},
   "outputs": [
    {
     "data": {
      "text/plain": [
       "0.9678156278117411"
      ]
     },
     "execution_count": 25,
     "metadata": {},
     "output_type": "execute_result"
    }
   ],
   "source": [
    "max(randarr)"
   ]
  },
  {
   "cell_type": "markdown",
   "metadata": {},
   "source": [
    "13\\. Suraskite didžiausią reikšmę masyve ir jos indeksą."
   ]
  },
  {
   "cell_type": "code",
   "execution_count": 27,
   "metadata": {},
   "outputs": [
    {
     "data": {
      "text/plain": [
       "4"
      ]
     },
     "execution_count": 27,
     "metadata": {},
     "output_type": "execute_result"
    }
   ],
   "source": [
    "randarr.argmax()"
   ]
  },
  {
   "cell_type": "code",
   "execution_count": null,
   "metadata": {},
   "outputs": [],
   "source": []
  },
  {
   "cell_type": "markdown",
   "metadata": {},
   "source": [
    "14\\. Suraskite mažiausią reikšmę ir jos indeksą"
   ]
  },
  {
   "cell_type": "code",
   "execution_count": 28,
   "metadata": {},
   "outputs": [
    {
     "data": {
      "text/plain": [
       "0.003810117709589944"
      ]
     },
     "execution_count": 28,
     "metadata": {},
     "output_type": "execute_result"
    }
   ],
   "source": [
    "randarr.min()"
   ]
  },
  {
   "cell_type": "code",
   "execution_count": null,
   "metadata": {},
   "outputs": [],
   "source": []
  },
  {
   "cell_type": "markdown",
   "metadata": {},
   "source": [
    "15\\. Atspausdinkite šios matricos duomenų tipą"
   ]
  },
  {
   "cell_type": "code",
   "execution_count": 29,
   "metadata": {},
   "outputs": [
    {
     "data": {
      "text/plain": [
       "dtype('float64')"
      ]
     },
     "execution_count": 29,
     "metadata": {},
     "output_type": "execute_result"
    }
   ],
   "source": [
    "randarr.dtype"
   ]
  },
  {
   "cell_type": "markdown",
   "metadata": {},
   "source": [
    "16\\. Sukurkite vektorių iš integer reikšmių nuo 1 iki 100. Priskirkite kintamąjam. Iš jo ištraukite visus skaičius, didesnius už 90"
   ]
  },
  {
   "cell_type": "code",
   "execution_count": 30,
   "metadata": {},
   "outputs": [
    {
     "data": {
      "text/plain": [
       "array([  1,   2,   3,   4,   5,   6,   7,   8,   9,  10,  11,  12,  13,\n",
       "        14,  15,  16,  17,  18,  19,  20,  21,  22,  23,  24,  25,  26,\n",
       "        27,  28,  29,  30,  31,  32,  33,  34,  35,  36,  37,  38,  39,\n",
       "        40,  41,  42,  43,  44,  45,  46,  47,  48,  49,  50,  51,  52,\n",
       "        53,  54,  55,  56,  57,  58,  59,  60,  61,  62,  63,  64,  65,\n",
       "        66,  67,  68,  69,  70,  71,  72,  73,  74,  75,  76,  77,  78,\n",
       "        79,  80,  81,  82,  83,  84,  85,  86,  87,  88,  89,  90,  91,\n",
       "        92,  93,  94,  95,  96,  97,  98,  99, 100])"
      ]
     },
     "execution_count": 30,
     "metadata": {},
     "output_type": "execute_result"
    }
   ],
   "source": [
    "bandymas = np.arange(1, 101)\n",
    "bandymas"
   ]
  },
  {
   "cell_type": "code",
   "execution_count": 31,
   "metadata": {},
   "outputs": [
    {
     "data": {
      "text/plain": [
       "array([ 91,  92,  93,  94,  95,  96,  97,  98,  99, 100])"
      ]
     },
     "execution_count": 31,
     "metadata": {},
     "output_type": "execute_result"
    }
   ],
   "source": [
    "bandymas[bandymas > 90]"
   ]
  },
  {
   "cell_type": "markdown",
   "metadata": {},
   "source": [
    "17\\. Ištraukite iš vektoriaus visus skaičiaus 7 kartotinius"
   ]
  },
  {
   "cell_type": "code",
   "execution_count": 32,
   "metadata": {},
   "outputs": [
    {
     "data": {
      "text/plain": [
       "array([ 7, 14, 21, 28, 35, 42, 49, 56, 63, 70, 77, 84, 91, 98])"
      ]
     },
     "execution_count": 32,
     "metadata": {},
     "output_type": "execute_result"
    }
   ],
   "source": [
    "bandymas[bandymas % 7 == 0]"
   ]
  },
  {
   "cell_type": "markdown",
   "metadata": {},
   "source": [
    "18\\. Sukurkite tokią matricą:"
   ]
  },
  {
   "cell_type": "code",
   "execution_count": null,
   "metadata": {},
   "outputs": [],
   "source": [
    "# array([[0.025, 0.05 , 0.075, 0.1  , 0.125, 0.15 , 0.175, 0.2  ],\n",
    "#        [0.225, 0.25 , 0.275, 0.3  , 0.325, 0.35 , 0.375, 0.4  ],\n",
    "#        [0.425, 0.45 , 0.475, 0.5  , 0.525, 0.55 , 0.575, 0.6  ],\n",
    "#        [0.625, 0.65 , 0.675, 0.7  , 0.725, 0.75 , 0.775, 0.8  ],\n",
    "#        [0.825, 0.85 , 0.875, 0.9  , 0.925, 0.95 , 0.975, 1.   ]])\n"
   ]
  },
  {
   "cell_type": "code",
   "execution_count": 33,
   "metadata": {},
   "outputs": [
    {
     "data": {
      "text/plain": [
       "array([[0.025, 0.05 , 0.075, 0.1  , 0.125, 0.15 , 0.175, 0.2  ],\n",
       "       [0.225, 0.25 , 0.275, 0.3  , 0.325, 0.35 , 0.375, 0.4  ],\n",
       "       [0.425, 0.45 , 0.475, 0.5  , 0.525, 0.55 , 0.575, 0.6  ],\n",
       "       [0.625, 0.65 , 0.675, 0.7  , 0.725, 0.75 , 0.775, 0.8  ],\n",
       "       [0.825, 0.85 , 0.875, 0.9  , 0.925, 0.95 , 0.975, 1.   ]])"
      ]
     },
     "execution_count": 33,
     "metadata": {},
     "output_type": "execute_result"
    }
   ],
   "source": [
    "np.linspace(0.025, 1, 40).reshape(5, 8)"
   ]
  },
  {
   "cell_type": "markdown",
   "metadata": {},
   "source": [
    "19\\. sukurkite tokią matricą (sveiki sk. nuo 2 iki 1000 iš kurių traukiasi sveika šaknis):"
   ]
  },
  {
   "cell_type": "code",
   "execution_count": null,
   "metadata": {},
   "outputs": [],
   "source": [
    "# array([[  4,   9,  16,  25,  36],\n",
    "#        [ 49,  64,  81, 100, 121],\n",
    "#        [144, 169, 196, 225, 256],\n",
    "#        [289, 324, 361, 400, 441],\n",
    "#        [484, 529, 576, 625, 676],\n",
    "#        [729, 784, 841, 900, 961]])"
   ]
  },
  {
   "cell_type": "code",
   "execution_count": 34,
   "metadata": {},
   "outputs": [
    {
     "data": {
      "text/plain": [
       "array([  2,   3,   4,   5,   6,   7,   8,   9,  10,  11,  12,  13,  14,\n",
       "        15,  16,  17,  18,  19,  20,  21,  22,  23,  24,  25,  26,  27,\n",
       "        28,  29,  30,  31,  32,  33,  34,  35,  36,  37,  38,  39,  40,\n",
       "        41,  42,  43,  44,  45,  46,  47,  48,  49,  50,  51,  52,  53,\n",
       "        54,  55,  56,  57,  58,  59,  60,  61,  62,  63,  64,  65,  66,\n",
       "        67,  68,  69,  70,  71,  72,  73,  74,  75,  76,  77,  78,  79,\n",
       "        80,  81,  82,  83,  84,  85,  86,  87,  88,  89,  90,  91,  92,\n",
       "        93,  94,  95,  96,  97,  98,  99, 100, 101, 102, 103, 104, 105,\n",
       "       106, 107, 108, 109, 110, 111, 112, 113, 114, 115, 116, 117, 118,\n",
       "       119, 120, 121, 122, 123, 124, 125, 126, 127, 128, 129, 130, 131,\n",
       "       132, 133, 134, 135, 136, 137, 138, 139, 140, 141, 142, 143, 144,\n",
       "       145, 146, 147, 148, 149, 150, 151, 152, 153, 154, 155, 156, 157,\n",
       "       158, 159, 160, 161, 162, 163, 164, 165, 166, 167, 168, 169, 170,\n",
       "       171, 172, 173, 174, 175, 176, 177, 178, 179, 180, 181, 182, 183,\n",
       "       184, 185, 186, 187, 188, 189, 190, 191, 192, 193, 194, 195, 196,\n",
       "       197, 198, 199, 200, 201, 202, 203, 204, 205, 206, 207, 208, 209,\n",
       "       210, 211, 212, 213, 214, 215, 216, 217, 218, 219, 220, 221, 222,\n",
       "       223, 224, 225, 226, 227, 228, 229, 230, 231, 232, 233, 234, 235,\n",
       "       236, 237, 238, 239, 240, 241, 242, 243, 244, 245, 246, 247, 248,\n",
       "       249, 250, 251, 252, 253, 254, 255, 256, 257, 258, 259, 260, 261,\n",
       "       262, 263, 264, 265, 266, 267, 268, 269, 270, 271, 272, 273, 274,\n",
       "       275, 276, 277, 278, 279, 280, 281, 282, 283, 284, 285, 286, 287,\n",
       "       288, 289, 290, 291, 292, 293, 294, 295, 296, 297, 298, 299, 300,\n",
       "       301, 302, 303, 304, 305, 306, 307, 308, 309, 310, 311, 312, 313,\n",
       "       314, 315, 316, 317, 318, 319, 320, 321, 322, 323, 324, 325, 326,\n",
       "       327, 328, 329, 330, 331, 332, 333, 334, 335, 336, 337, 338, 339,\n",
       "       340, 341, 342, 343, 344, 345, 346, 347, 348, 349, 350, 351, 352,\n",
       "       353, 354, 355, 356, 357, 358, 359, 360, 361, 362, 363, 364, 365,\n",
       "       366, 367, 368, 369, 370, 371, 372, 373, 374, 375, 376, 377, 378,\n",
       "       379, 380, 381, 382, 383, 384, 385, 386, 387, 388, 389, 390, 391,\n",
       "       392, 393, 394, 395, 396, 397, 398, 399, 400, 401, 402, 403, 404,\n",
       "       405, 406, 407, 408, 409, 410, 411, 412, 413, 414, 415, 416, 417,\n",
       "       418, 419, 420, 421, 422, 423, 424, 425, 426, 427, 428, 429, 430,\n",
       "       431, 432, 433, 434, 435, 436, 437, 438, 439, 440, 441, 442, 443,\n",
       "       444, 445, 446, 447, 448, 449, 450, 451, 452, 453, 454, 455, 456,\n",
       "       457, 458, 459, 460, 461, 462, 463, 464, 465, 466, 467, 468, 469,\n",
       "       470, 471, 472, 473, 474, 475, 476, 477, 478, 479, 480, 481, 482,\n",
       "       483, 484, 485, 486, 487, 488, 489, 490, 491, 492, 493, 494, 495,\n",
       "       496, 497, 498, 499, 500, 501, 502, 503, 504, 505, 506, 507, 508,\n",
       "       509, 510, 511, 512, 513, 514, 515, 516, 517, 518, 519, 520, 521,\n",
       "       522, 523, 524, 525, 526, 527, 528, 529, 530, 531, 532, 533, 534,\n",
       "       535, 536, 537, 538, 539, 540, 541, 542, 543, 544, 545, 546, 547,\n",
       "       548, 549, 550, 551, 552, 553, 554, 555, 556, 557, 558, 559, 560,\n",
       "       561, 562, 563, 564, 565, 566, 567, 568, 569, 570, 571, 572, 573,\n",
       "       574, 575, 576, 577, 578, 579, 580, 581, 582, 583, 584, 585, 586,\n",
       "       587, 588, 589, 590, 591, 592, 593, 594, 595, 596, 597, 598, 599,\n",
       "       600, 601, 602, 603, 604, 605, 606, 607, 608, 609, 610, 611, 612,\n",
       "       613, 614, 615, 616, 617, 618, 619, 620, 621, 622, 623, 624, 625,\n",
       "       626, 627, 628, 629, 630, 631, 632, 633, 634, 635, 636, 637, 638,\n",
       "       639, 640, 641, 642, 643, 644, 645, 646, 647, 648, 649, 650, 651,\n",
       "       652, 653, 654, 655, 656, 657, 658, 659, 660, 661, 662, 663, 664,\n",
       "       665, 666, 667, 668, 669, 670, 671, 672, 673, 674, 675, 676, 677,\n",
       "       678, 679, 680, 681, 682, 683, 684, 685, 686, 687, 688, 689, 690,\n",
       "       691, 692, 693, 694, 695, 696, 697, 698, 699, 700, 701, 702, 703,\n",
       "       704, 705, 706, 707, 708, 709, 710, 711, 712, 713, 714, 715, 716,\n",
       "       717, 718, 719, 720, 721, 722, 723, 724, 725, 726, 727, 728, 729,\n",
       "       730, 731, 732, 733, 734, 735, 736, 737, 738, 739, 740, 741, 742,\n",
       "       743, 744, 745, 746, 747, 748, 749, 750, 751, 752, 753, 754, 755,\n",
       "       756, 757, 758, 759, 760, 761, 762, 763, 764, 765, 766, 767, 768,\n",
       "       769, 770, 771, 772, 773, 774, 775, 776, 777, 778, 779, 780, 781,\n",
       "       782, 783, 784, 785, 786, 787, 788, 789, 790, 791, 792, 793, 794,\n",
       "       795, 796, 797, 798, 799, 800, 801, 802, 803, 804, 805, 806, 807,\n",
       "       808, 809, 810, 811, 812, 813, 814, 815, 816, 817, 818, 819, 820,\n",
       "       821, 822, 823, 824, 825, 826, 827, 828, 829, 830, 831, 832, 833,\n",
       "       834, 835, 836, 837, 838, 839, 840, 841, 842, 843, 844, 845, 846,\n",
       "       847, 848, 849, 850, 851, 852, 853, 854, 855, 856, 857, 858, 859,\n",
       "       860, 861, 862, 863, 864, 865, 866, 867, 868, 869, 870, 871, 872,\n",
       "       873, 874, 875, 876, 877, 878, 879, 880, 881, 882, 883, 884, 885,\n",
       "       886, 887, 888, 889, 890, 891, 892, 893, 894, 895, 896, 897, 898,\n",
       "       899, 900, 901, 902, 903, 904, 905, 906, 907, 908, 909, 910, 911,\n",
       "       912, 913, 914, 915, 916, 917, 918, 919, 920, 921, 922, 923, 924,\n",
       "       925, 926, 927, 928, 929, 930, 931, 932, 933, 934, 935, 936, 937,\n",
       "       938, 939, 940, 941, 942, 943, 944, 945, 946, 947, 948, 949, 950,\n",
       "       951, 952, 953, 954, 955, 956, 957, 958, 959, 960, 961, 962, 963,\n",
       "       964, 965, 966, 967, 968, 969, 970, 971, 972, 973, 974, 975, 976,\n",
       "       977, 978, 979, 980, 981, 982, 983, 984, 985, 986, 987, 988, 989,\n",
       "       990, 991, 992, 993, 994, 995, 996, 997, 998, 999])"
      ]
     },
     "execution_count": 34,
     "metadata": {},
     "output_type": "execute_result"
    }
   ],
   "source": [
    "matrica = np.arange(2, 1000)\n",
    "matrica"
   ]
  },
  {
   "cell_type": "code",
   "execution_count": 36,
   "metadata": {},
   "outputs": [
    {
     "data": {
      "text/plain": [
       "array([[  4,   9,  16,  25,  36],\n",
       "       [ 49,  64,  81, 100, 121],\n",
       "       [144, 169, 196, 225, 256],\n",
       "       [289, 324, 361, 400, 441],\n",
       "       [484, 529, 576, 625, 676],\n",
       "       [729, 784, 841, 900, 961]])"
      ]
     },
     "execution_count": 36,
     "metadata": {},
     "output_type": "execute_result"
    }
   ],
   "source": [
    "reshape = matrica[(matrica ** 0.5) % 1 == 0].reshape(6, 5)\n",
    "reshape"
   ]
  },
  {
   "cell_type": "code",
   "execution_count": null,
   "metadata": {},
   "outputs": [],
   "source": []
  },
  {
   "cell_type": "markdown",
   "metadata": {},
   "source": [
    "20\\. **(BONUS)**\n",
    "* Sukurkite vektorių iš sveikų sk. nuo 1 iki 100. Priskirkite kintamąjam.\n",
    "* Sukurkite Python funkciją, kuri tikrina ar parametruose įvestas sk. yra pirminis. Jeigu pirminis, grąžina True, jei ne, False.\n",
    "* NumPy nevisada supranta įprastą Python kodą su range'ais ir list'ais, todėl sukurtą funkciją teks vektorizuoti taip : **nauja_funkcija = np.vectorize(jūsų_funkcija)**  .\n",
    "* Kadangi sąlygos reikšmių traukimui yra *bool* reikšmės, pabandykite vietoje sąlygos įdėti savo vektorizuotą funkciją, ir taip išrinkti pirminius skaičius iš savo vektoriaus\n",
    "."
   ]
  },
  {
   "cell_type": "code",
   "execution_count": 38,
   "metadata": {},
   "outputs": [
    {
     "data": {
      "text/plain": [
       "array([  1,   2,   3,   4,   5,   6,   7,   8,   9,  10,  11,  12,  13,\n",
       "        14,  15,  16,  17,  18,  19,  20,  21,  22,  23,  24,  25,  26,\n",
       "        27,  28,  29,  30,  31,  32,  33,  34,  35,  36,  37,  38,  39,\n",
       "        40,  41,  42,  43,  44,  45,  46,  47,  48,  49,  50,  51,  52,\n",
       "        53,  54,  55,  56,  57,  58,  59,  60,  61,  62,  63,  64,  65,\n",
       "        66,  67,  68,  69,  70,  71,  72,  73,  74,  75,  76,  77,  78,\n",
       "        79,  80,  81,  82,  83,  84,  85,  86,  87,  88,  89,  90,  91,\n",
       "        92,  93,  94,  95,  96,  97,  98,  99, 100])"
      ]
     },
     "execution_count": 38,
     "metadata": {},
     "output_type": "execute_result"
    }
   ],
   "source": [
    "testlist = np.arange(1,101)\n",
    "testlist"
   ]
  },
  {
   "cell_type": "code",
   "execution_count": 39,
   "metadata": {},
   "outputs": [],
   "source": [
    "def is_prime(number):\n",
    "    for i in range(2, number):\n",
    "        if number % i == 0: \n",
    "            return False\n",
    "    return True"
   ]
  },
  {
   "cell_type": "code",
   "execution_count": 40,
   "metadata": {},
   "outputs": [],
   "source": [
    "vis_prime = np.vectorize(is_prime)"
   ]
  },
  {
   "cell_type": "code",
   "execution_count": 41,
   "metadata": {},
   "outputs": [
    {
     "data": {
      "text/plain": [
       "array([ 1,  2,  3,  5,  7, 11, 13, 17, 19, 23, 29, 31, 37, 41, 43, 47, 53,\n",
       "       59, 61, 67, 71, 73, 79, 83, 89, 97])"
      ]
     },
     "execution_count": 41,
     "metadata": {},
     "output_type": "execute_result"
    }
   ],
   "source": [
    "testlist[vis_prime(testlist)]"
   ]
  },
  {
   "cell_type": "code",
   "execution_count": null,
   "metadata": {},
   "outputs": [],
   "source": []
  }
 ],
 "metadata": {
  "kernelspec": {
   "display_name": "Python 3",
   "language": "python",
   "name": "python3"
  },
  "language_info": {
   "codemirror_mode": {
    "name": "ipython",
    "version": 3
   },
   "file_extension": ".py",
   "mimetype": "text/x-python",
   "name": "python",
   "nbconvert_exporter": "python",
   "pygments_lexer": "ipython3",
   "version": "3.11.7"
  }
 },
 "nbformat": 4,
 "nbformat_minor": 2
}
