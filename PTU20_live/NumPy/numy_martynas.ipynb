{
 "cells": [
  {
   "cell_type": "code",
   "execution_count": 2,
   "metadata": {},
   "outputs": [],
   "source": [
    "import numpy as np "
   ]
  },
  {
   "cell_type": "code",
   "execution_count": 3,
   "metadata": {},
   "outputs": [
    {
     "name": "stdout",
     "output_type": "stream",
     "text": [
      "[4 5 1 3 2]\n"
     ]
    }
   ],
   "source": [
    "sarasas = [4, 5, 1, 3, 2]\n",
    "masyvas = np.array(sarasas)\n",
    "print(masyvas)"
   ]
  },
  {
   "cell_type": "code",
   "execution_count": 4,
   "metadata": {},
   "outputs": [
    {
     "name": "stdout",
     "output_type": "stream",
     "text": [
      "[[1, 2, 3], [4, 5, 6], [7, 8, 9]]\n"
     ]
    }
   ],
   "source": [
    "x0 = [[1, 2, 3], [4, 5, 6], [7, 8, 9]]\n",
    "print(x0)"
   ]
  },
  {
   "cell_type": "code",
   "execution_count": 5,
   "metadata": {},
   "outputs": [
    {
     "name": "stdout",
     "output_type": "stream",
     "text": [
      "[[1 2 3]\n",
      " [4 5 6]\n",
      " [7 8 9]]\n"
     ]
    }
   ],
   "source": [
    "x0matrix = np.array(x0)\n",
    "print(x0matrix)"
   ]
  },
  {
   "cell_type": "code",
   "execution_count": 7,
   "metadata": {},
   "outputs": [
    {
     "name": "stdout",
     "output_type": "stream",
     "text": [
      "[  5  10  15  20  25  30  35  40  45  50  55  60  65  70  75  80  85  90\n",
      "  95 100 105 110 115 120 125 130 135 140 145 150 155 160 165 170 175 180\n",
      " 185 190 195]\n"
     ]
    }
   ],
   "source": [
    "print(np.arange(5, 200, 5))"
   ]
  },
  {
   "cell_type": "code",
   "execution_count": 8,
   "metadata": {},
   "outputs": [
    {
     "data": {
      "text/plain": [
       "array([0., 0., 0., 0., 0., 0., 0., 0., 0., 0.])"
      ]
     },
     "execution_count": 8,
     "metadata": {},
     "output_type": "execute_result"
    }
   ],
   "source": [
    "np.zeros(10)"
   ]
  },
  {
   "cell_type": "code",
   "execution_count": 9,
   "metadata": {},
   "outputs": [
    {
     "name": "stdout",
     "output_type": "stream",
     "text": [
      "[[0. 0. 0.]\n",
      " [0. 0. 0.]\n",
      " [0. 0. 0.]]\n"
     ]
    }
   ],
   "source": [
    "print(np.zeros((3, 3)))"
   ]
  },
  {
   "cell_type": "code",
   "execution_count": 10,
   "metadata": {},
   "outputs": [
    {
     "name": "stdout",
     "output_type": "stream",
     "text": [
      "[0. 0. 0. 0. 0.]\n"
     ]
    }
   ],
   "source": [
    "print(np.zeros(5))"
   ]
  },
  {
   "cell_type": "code",
   "execution_count": 12,
   "metadata": {},
   "outputs": [
    {
     "data": {
      "text/plain": [
       "array([21., 26., 31., 36., 41., 46., 51., 56., 61.])"
      ]
     },
     "execution_count": 12,
     "metadata": {},
     "output_type": "execute_result"
    }
   ],
   "source": [
    "np.linspace(21, 61, 9)"
   ]
  },
  {
   "cell_type": "code",
   "execution_count": 14,
   "metadata": {},
   "outputs": [
    {
     "data": {
      "text/plain": [
       "array([[1., 0., 0., 0., 0.],\n",
       "       [0., 1., 0., 0., 0.],\n",
       "       [0., 0., 1., 0., 0.],\n",
       "       [0., 0., 0., 1., 0.],\n",
       "       [0., 0., 0., 0., 1.]])"
      ]
     },
     "execution_count": 14,
     "metadata": {},
     "output_type": "execute_result"
    }
   ],
   "source": [
    "np.eye(5)"
   ]
  },
  {
   "cell_type": "code",
   "execution_count": 16,
   "metadata": {},
   "outputs": [
    {
     "data": {
      "text/plain": [
       "array([0.49130231, 0.42554694, 0.60796893, 0.69246534, 0.0544883 ])"
      ]
     },
     "execution_count": 16,
     "metadata": {},
     "output_type": "execute_result"
    }
   ],
   "source": [
    "np.random.rand(5)"
   ]
  },
  {
   "cell_type": "code",
   "execution_count": 17,
   "metadata": {},
   "outputs": [
    {
     "data": {
      "text/plain": [
       "array([[0.32754762, 0.2718217 , 0.44072151, 0.4370723 , 0.42588143],\n",
       "       [0.09823864, 0.67260063, 0.24883996, 0.67710258, 0.23733967],\n",
       "       [0.27437014, 0.58268042, 0.72394244, 0.81252928, 0.09081258],\n",
       "       [0.03316759, 0.64309917, 0.53518299, 0.14352188, 0.5424337 ],\n",
       "       [0.22369056, 0.70188476, 0.25330917, 0.08024383, 0.37540153]])"
      ]
     },
     "execution_count": 17,
     "metadata": {},
     "output_type": "execute_result"
    }
   ],
   "source": [
    "np.random.rand(5, 5)"
   ]
  },
  {
   "cell_type": "code",
   "execution_count": 18,
   "metadata": {},
   "outputs": [
    {
     "data": {
      "text/plain": [
       "array([[ 1.96298183,  1.26084019,  0.64428606,  0.31243653, -1.22237082],\n",
       "       [ 0.29595665,  0.55821537,  0.52115116,  1.21182186, -0.19848637],\n",
       "       [ 0.25607005,  1.72838342, -1.45227123,  0.41996304, -0.14391418],\n",
       "       [ 0.90377614, -0.39726937,  0.64699616, -0.7057338 , -0.82626642],\n",
       "       [-0.01611568,  1.81575905, -0.54226006, -0.99975838, -0.12118563]])"
      ]
     },
     "execution_count": 18,
     "metadata": {},
     "output_type": "execute_result"
    }
   ],
   "source": [
    "np.random.randn(5, 5)"
   ]
  },
  {
   "cell_type": "code",
   "execution_count": 19,
   "metadata": {},
   "outputs": [
    {
     "data": {
      "text/plain": [
       "array([[62, 12, 92, 34, 71],\n",
       "       [43, 49, 32, 15, 52],\n",
       "       [68, 92, 46, 95, 61],\n",
       "       [50, 19, 60, 25, 47],\n",
       "       [80,  1, 14, 28, 47]])"
      ]
     },
     "execution_count": 19,
     "metadata": {},
     "output_type": "execute_result"
    }
   ],
   "source": [
    "np.random.randint(1, 100, (5, 5))"
   ]
  },
  {
   "cell_type": "code",
   "execution_count": 20,
   "metadata": {},
   "outputs": [
    {
     "data": {
      "text/plain": [
       "array([61, 64, 27, 96, 23, 67, 80, 48, 64, 26, 63, 18, 77, 44, 63, 88, 63,\n",
       "       30, 79, 92, 50, 94, 20, 35, 24, 77, 99, 15, 39, 89, 33, 56, 89, 21,\n",
       "       43, 96, 78, 61, 31, 81, 27, 27, 10, 98, 95, 45, 94, 49, 66, 21, 64,\n",
       "       98, 99, 18, 48, 91, 79, 27, 89, 64, 89, 68, 38, 30])"
      ]
     },
     "execution_count": 20,
     "metadata": {},
     "output_type": "execute_result"
    }
   ],
   "source": [
    "betko64 = np.random.randint(10, 100, 64)\n",
    "betko64"
   ]
  },
  {
   "cell_type": "code",
   "execution_count": 22,
   "metadata": {},
   "outputs": [
    {
     "data": {
      "text/plain": [
       "array([[61, 64, 27, 96, 23, 67, 80, 48],\n",
       "       [64, 26, 63, 18, 77, 44, 63, 88],\n",
       "       [63, 30, 79, 92, 50, 94, 20, 35],\n",
       "       [24, 77, 99, 15, 39, 89, 33, 56],\n",
       "       [89, 21, 43, 96, 78, 61, 31, 81],\n",
       "       [27, 27, 10, 98, 95, 45, 94, 49],\n",
       "       [66, 21, 64, 98, 99, 18, 48, 91],\n",
       "       [79, 27, 89, 64, 89, 68, 38, 30]])"
      ]
     },
     "execution_count": 22,
     "metadata": {},
     "output_type": "execute_result"
    }
   ],
   "source": [
    "betko8x8 = betko64.reshape(8, 8)\n",
    "betko8x8"
   ]
  },
  {
   "cell_type": "code",
   "execution_count": 29,
   "metadata": {},
   "outputs": [
    {
     "name": "stdout",
     "output_type": "stream",
     "text": [
      "18970636 : -5.755728079562998, 81662970\n"
     ]
    }
   ],
   "source": [
    "daug_betko = np.random.randn(10000, 10000)\n",
    "print(f'{daug_betko.argmin()} : {daug_betko.min()}, {daug_betko.argmax()}')"
   ]
  },
  {
   "cell_type": "code",
   "execution_count": 32,
   "metadata": {},
   "outputs": [
    {
     "name": "stdout",
     "output_type": "stream",
     "text": [
      "(10000, 10000)\n"
     ]
    },
    {
     "data": {
      "text/plain": [
       "dtype('float64')"
      ]
     },
     "execution_count": 32,
     "metadata": {},
     "output_type": "execute_result"
    }
   ],
   "source": [
    "print(daug_betko.shape)\n",
    "daug_betko.dtype"
   ]
  },
  {
   "cell_type": "code",
   "execution_count": 36,
   "metadata": {},
   "outputs": [
    {
     "name": "stdout",
     "output_type": "stream",
     "text": [
      "[9 5 6 5 3 3 2 2 3 4]\n",
      "9 5 [3 2 2 3]\n"
     ]
    }
   ],
   "source": [
    "betko10 = np.random.randint(1, 10, 10)\n",
    "print(betko10)\n",
    "print(betko10[0], betko10[3], betko10[5:9])"
   ]
  },
  {
   "cell_type": "code",
   "execution_count": 37,
   "metadata": {},
   "outputs": [
    {
     "name": "stdout",
     "output_type": "stream",
     "text": [
      "[4 3 2 2 3 3 5 6 5 9]\n"
     ]
    }
   ],
   "source": [
    "print(betko10[::-1])"
   ]
  },
  {
   "cell_type": "code",
   "execution_count": 39,
   "metadata": {},
   "outputs": [
    {
     "name": "stdout",
     "output_type": "stream",
     "text": [
      "[2 3 4]\n"
     ]
    }
   ],
   "source": [
    "print(betko10[-3:])"
   ]
  },
  {
   "cell_type": "code",
   "execution_count": 41,
   "metadata": {},
   "outputs": [
    {
     "name": "stdout",
     "output_type": "stream",
     "text": [
      "[[61 64 27 96 23 67 80 48]\n",
      " [64 26 63 18 77 44 63 88]\n",
      " [63 30 79 92 50 94 20 35]\n",
      " [24 77 99 15 39 89 33 56]\n",
      " [89 21 43 96 78 61 31 81]\n",
      " [27 27 10 98 95 45 94 49]\n",
      " [66 21 64 98 99 18 48 91]\n",
      " [79 27 89 64 89 68 38 30]] (8, 8) 78\n"
     ]
    }
   ],
   "source": [
    "betko8x8[:, :7]\n",
    "print(betko8x8, betko8x8.shape, betko8x8[4, 4])"
   ]
  },
  {
   "cell_type": "code",
   "execution_count": 42,
   "metadata": {},
   "outputs": [
    {
     "name": "stdout",
     "output_type": "stream",
     "text": [
      "[[79 92 50]\n",
      " [99 15 39]\n",
      " [43 96 78]]\n"
     ]
    }
   ],
   "source": [
    "print(betko8x8[2:5, 2:5])"
   ]
  },
  {
   "cell_type": "code",
   "execution_count": 43,
   "metadata": {},
   "outputs": [
    {
     "data": {
      "text/plain": [
       "array([[61, 64, 27, 96, 23, 67, 80, 48],\n",
       "       [64, 26, 63, 18, 77, 44, 63, 88],\n",
       "       [63, 30, 79, 92, 50, 94, 20, 35],\n",
       "       [24, 77, 99, 15, 39, 89, 33, 56],\n",
       "       [89, 21, 43, 96, 78, 61, 31, 81],\n",
       "       [27, 27, 10, 98, 95, 45, 94, 49],\n",
       "       [66, 21, 64, 98, 99, 18, 48, 91],\n",
       "       [79, 27, 89, 64, 89, 68, 38, 30]])"
      ]
     },
     "execution_count": 43,
     "metadata": {},
     "output_type": "execute_result"
    }
   ],
   "source": [
    "betko8x8"
   ]
  },
  {
   "cell_type": "code",
   "execution_count": 45,
   "metadata": {},
   "outputs": [
    {
     "name": "stdout",
     "output_type": "stream",
     "text": [
      "[[ True  True False  True False  True  True False]\n",
      " [ True False  True False  True False  True  True]\n",
      " [ True False  True  True  True  True False False]\n",
      " [False  True  True False False  True False  True]\n",
      " [ True False False  True  True  True False  True]\n",
      " [False False False  True  True False  True False]\n",
      " [ True False  True  True  True False False  True]\n",
      " [ True False  True  True  True  True False False]]\n"
     ]
    }
   ],
   "source": [
    "virs_50 = betko8x8 >= 50\n",
    "print(virs_50)"
   ]
  },
  {
   "cell_type": "code",
   "execution_count": 46,
   "metadata": {},
   "outputs": [
    {
     "name": "stdout",
     "output_type": "stream",
     "text": [
      "[[61 64 27 96 23 67 80 48]\n",
      " [64 26 63 18 77 44 63 88]\n",
      " [63 30 77 77 77 94 20 35]\n",
      " [24 77 77 77 77 89 33 56]\n",
      " [89 21 77 77 77 61 31 81]\n",
      " [27 27 10 98 95 45 94 49]\n",
      " [66 21 64 98 99 18 48 91]\n",
      " [79 27 89 64 89 68 38 30]]\n"
     ]
    }
   ],
   "source": [
    "betko8x8[2:5, 2:5] = 77\n",
    "print(betko8x8)"
   ]
  },
  {
   "cell_type": "code",
   "execution_count": 47,
   "metadata": {},
   "outputs": [
    {
     "data": {
      "text/plain": [
       "array([[61, 64, 27, 96, 23, 67, 80, 48],\n",
       "       [64, 26, 63, 18, 77, 44, 63, 88],\n",
       "       [63, 30, 77, 77, 77, 94, 20, 35],\n",
       "       [24, 77, 77, 77, 77, 89, 33, 56],\n",
       "       [89, 21, 77, 77, 77, 61, 31, 81],\n",
       "       [27, 27, 10, 98, 95, 45, 94, 49],\n",
       "       [66, 21, 64, 98, 99, 18, 48, 91],\n",
       "       [79, 27, 89, 64, 89, 68, 38, 30]])"
      ]
     },
     "execution_count": 47,
     "metadata": {},
     "output_type": "execute_result"
    }
   ],
   "source": [
    "betko8x8"
   ]
  },
  {
   "cell_type": "code",
   "execution_count": 48,
   "metadata": {},
   "outputs": [
    {
     "data": {
      "text/plain": [
       "array([[77, 77, 77],\n",
       "       [77, 77, 77],\n",
       "       [77, 77, 77]])"
      ]
     },
     "execution_count": 48,
     "metadata": {},
     "output_type": "execute_result"
    }
   ],
   "source": [
    "septyni_septynetai = betko8x8[2:5, 2:5].copy()\n",
    "septyni_septynetai"
   ]
  },
  {
   "cell_type": "code",
   "execution_count": 49,
   "metadata": {},
   "outputs": [
    {
     "data": {
      "text/plain": [
       "array([[61, 64, 27, 96, 23, 67, 80, 48],\n",
       "       [64, 26, 63, 18, 77, 44, 63, 88],\n",
       "       [63, 30, 37, 13, 20, 94, 20, 35],\n",
       "       [24, 77, 77, 42, 78, 89, 33, 56],\n",
       "       [89, 21, 68, 21, 15, 61, 31, 81],\n",
       "       [27, 27, 10, 98, 95, 45, 94, 49],\n",
       "       [66, 21, 64, 98, 99, 18, 48, 91],\n",
       "       [79, 27, 89, 64, 89, 68, 38, 30]])"
      ]
     },
     "execution_count": 49,
     "metadata": {},
     "output_type": "execute_result"
    }
   ],
   "source": [
    "betko8x8[2:5, 2:5] = np.random.randint(10, 100, (3,3))\n",
    "betko8x8"
   ]
  },
  {
   "cell_type": "code",
   "execution_count": 50,
   "metadata": {},
   "outputs": [
    {
     "data": {
      "text/plain": [
       "array([[77, 77, 77],\n",
       "       [77, 77, 77],\n",
       "       [77, 77, 77]])"
      ]
     },
     "execution_count": 50,
     "metadata": {},
     "output_type": "execute_result"
    }
   ],
   "source": [
    "septyni_septynetai"
   ]
  },
  {
   "cell_type": "code",
   "execution_count": 51,
   "metadata": {},
   "outputs": [
    {
     "name": "stdout",
     "output_type": "stream",
     "text": [
      "[[100 100 100]\n",
      " [100 100 100]\n",
      " [100 100 100]]\n"
     ]
    }
   ],
   "source": [
    "simtukai = septyni_septynetai.copy() + 23\n",
    "print(simtukai)"
   ]
  },
  {
   "cell_type": "code",
   "execution_count": 52,
   "metadata": {},
   "outputs": [
    {
     "data": {
      "text/plain": [
       "array([[123, 123, 123],\n",
       "       [123, 123, 123],\n",
       "       [123, 123, 123]])"
      ]
     },
     "execution_count": 52,
     "metadata": {},
     "output_type": "execute_result"
    }
   ],
   "source": [
    "simtukai += 23\n",
    "simtukai"
   ]
  },
  {
   "cell_type": "code",
   "execution_count": 53,
   "metadata": {},
   "outputs": [
    {
     "data": {
      "text/plain": [
       "array([[200, 200, 200],\n",
       "       [200, 200, 200],\n",
       "       [200, 200, 200]])"
      ]
     },
     "execution_count": 53,
     "metadata": {},
     "output_type": "execute_result"
    }
   ],
   "source": [
    "simtukai + septyni_septynetai"
   ]
  },
  {
   "cell_type": "code",
   "execution_count": 54,
   "metadata": {},
   "outputs": [
    {
     "data": {
      "text/plain": [
       "array([[1.5974026, 1.5974026, 1.5974026],\n",
       "       [1.5974026, 1.5974026, 1.5974026],\n",
       "       [1.5974026, 1.5974026, 1.5974026]])"
      ]
     },
     "execution_count": 54,
     "metadata": {},
     "output_type": "execute_result"
    }
   ],
   "source": [
    "simtukai / septyni_septynetai"
   ]
  },
  {
   "cell_type": "code",
   "execution_count": 56,
   "metadata": {},
   "outputs": [
    {
     "data": {
      "text/plain": [
       "array([[       3721,           0, -1038305055,  -436207616,   148035889,\n",
       "               4489, -1018167296,     5308416],\n",
       "       [          0,       17576,        3969, -1864941312,      456533,\n",
       "        -1333620736,    15752961,  1476395008],\n",
       "       [  495628735,  -835117568,   324385413,    62748517,     3200000,\n",
       "        -1951783040,     3200000, -1306177021],\n",
       "       [  191102976, -1588183139,        5929,  1795711232,      474552,\n",
       "          -71001063,  -331229983,     9834496],\n",
       "       [-1234915375,         441,        4624,  1801088541,        3375,\n",
       "          -19233191,         961,      531441],\n",
       "       [   14348907,       19683,    10000000,  1079117888,    81450625,\n",
       "         1894303437, -1619953600,   956385313],\n",
       "       [  552235136,    85766121,        4096,    92111104,   919965907,\n",
       "          790794752,           0,  -944569741],\n",
       "       [ 1011793615,  2030534587,        7921,        4096,    62742241,\n",
       "        -1841037312,     2085136,  -835117568]])"
      ]
     },
     "execution_count": 56,
     "metadata": {},
     "output_type": "execute_result"
    }
   ],
   "source": [
    "betko8x8 ** np.random.randint(2, 10, (8, 8))"
   ]
  }
 ],
 "metadata": {
  "kernelspec": {
   "display_name": "venv",
   "language": "python",
   "name": "python3"
  },
  "language_info": {
   "codemirror_mode": {
    "name": "ipython",
    "version": 3
   },
   "file_extension": ".py",
   "mimetype": "text/x-python",
   "name": "python",
   "nbconvert_exporter": "python",
   "pygments_lexer": "ipython3",
   "version": "3.11.7"
  }
 },
 "nbformat": 4,
 "nbformat_minor": 2
}
