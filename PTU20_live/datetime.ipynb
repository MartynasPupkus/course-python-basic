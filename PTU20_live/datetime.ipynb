{
 "cells": [
  {
   "cell_type": "code",
   "execution_count": 1,
   "metadata": {},
   "outputs": [],
   "source": [
    "from datetime import datetime"
   ]
  },
  {
   "cell_type": "markdown",
   "metadata": {},
   "source": [
    "## data ir laikas"
   ]
  },
  {
   "cell_type": "code",
   "execution_count": 2,
   "metadata": {},
   "outputs": [
    {
     "name": "stdout",
     "output_type": "stream",
     "text": [
      "1983-03-19 17:30:42\n"
     ]
    }
   ],
   "source": [
    "gimtalaikis = datetime(1983, 3, 19, 17, 30, 42)\n",
    "print(gimtalaikis)"
   ]
  },
  {
   "cell_type": "code",
   "execution_count": 3,
   "metadata": {},
   "outputs": [
    {
     "name": "stdout",
     "output_type": "stream",
     "text": [
      "2024-01-16 11:18:56.023770\n"
     ]
    }
   ],
   "source": [
    "dabar = datetime.now()\n",
    "print(dabar)"
   ]
  },
  {
   "cell_type": "code",
   "execution_count": 4,
   "metadata": {},
   "outputs": [],
   "source": [
    "from datetime import date"
   ]
  },
  {
   "cell_type": "code",
   "execution_count": 5,
   "metadata": {},
   "outputs": [
    {
     "name": "stdout",
     "output_type": "stream",
     "text": [
      "1983-03-19\n"
     ]
    }
   ],
   "source": [
    "gimtadienis = date(1983, 3, 19)\n",
    "print(gimtadienis)"
   ]
  },
  {
   "cell_type": "code",
   "execution_count": 6,
   "metadata": {},
   "outputs": [
    {
     "name": "stdout",
     "output_type": "stream",
     "text": [
      "2024-01-16\n"
     ]
    }
   ],
   "source": [
    "siandien = date.today()\n",
    "print(siandien)"
   ]
  },
  {
   "cell_type": "code",
   "execution_count": 7,
   "metadata": {},
   "outputs": [],
   "source": [
    "from datetime import timedelta"
   ]
  },
  {
   "cell_type": "code",
   "execution_count": 8,
   "metadata": {},
   "outputs": [
    {
     "name": "stdout",
     "output_type": "stream",
     "text": [
      "2024-01-23\n"
     ]
    }
   ],
   "source": [
    "print(siandien + timedelta(days=7))"
   ]
  },
  {
   "cell_type": "code",
   "execution_count": 9,
   "metadata": {},
   "outputs": [
    {
     "name": "stdout",
     "output_type": "stream",
     "text": [
      "2024-01-16 01:18:56.023770\n"
     ]
    }
   ],
   "source": [
    "print(dabar - timedelta(hours=10))"
   ]
  },
  {
   "cell_type": "code",
   "execution_count": 10,
   "metadata": {},
   "outputs": [
    {
     "name": "stdout",
     "output_type": "stream",
     "text": [
      "2024-01-16 00:18:56.099120\n"
     ]
    }
   ],
   "source": [
    "print(datetime.now() - timedelta(hours=11))"
   ]
  },
  {
   "cell_type": "code",
   "execution_count": 11,
   "metadata": {},
   "outputs": [
    {
     "name": "stdout",
     "output_type": "stream",
     "text": [
      "14913 days, 0:00:00\n"
     ]
    }
   ],
   "source": [
    "print(siandien - gimtadienis)"
   ]
  },
  {
   "cell_type": "code",
   "execution_count": 12,
   "metadata": {},
   "outputs": [
    {
     "name": "stdout",
     "output_type": "stream",
     "text": [
      "14913\n"
     ]
    }
   ],
   "source": [
    "amzius = siandien - gimtadienis\n",
    "print(amzius.days)"
   ]
  },
  {
   "cell_type": "code",
   "execution_count": 13,
   "metadata": {},
   "outputs": [
    {
     "name": "stdout",
     "output_type": "stream",
     "text": [
      "40\n"
     ]
    }
   ],
   "source": [
    "print(amzius.days // 365)"
   ]
  },
  {
   "cell_type": "code",
   "execution_count": 14,
   "metadata": {},
   "outputs": [],
   "source": [
    "datos_laiko_formatas = \"%Y-%m-%d %H val. %M min. %S sekundės\""
   ]
  },
  {
   "cell_type": "code",
   "execution_count": 15,
   "metadata": {},
   "outputs": [
    {
     "data": {
      "text/plain": [
       "'2024-01-16 11 val. 18 min. 56 sekundes'"
      ]
     },
     "execution_count": 15,
     "metadata": {},
     "output_type": "execute_result"
    }
   ],
   "source": [
    "dabar.strftime(datos_laiko_formatas)"
   ]
  },
  {
   "cell_type": "code",
   "execution_count": 16,
   "metadata": {},
   "outputs": [
    {
     "name": "stdout",
     "output_type": "stream",
     "text": [
      "Tuesday, January 16, 2024, day 016, week 02\n",
      "Saturday, March 19, 1983, day 078, week 11\n"
     ]
    }
   ],
   "source": [
    "datos_formatas = \"%A, %B %d, %Y, day %j, week %U\"\n",
    "print(dabar.strftime(datos_formatas))\n",
    "print(gimtadienis.strftime(datos_formatas))"
   ]
  },
  {
   "cell_type": "code",
   "execution_count": 17,
   "metadata": {},
   "outputs": [
    {
     "name": "stdout",
     "output_type": "stream",
     "text": [
      "2025-11-11 11:11:11 <class 'datetime.datetime'>\n"
     ]
    }
   ],
   "source": [
    "ateities_tekstas = \"2025-11-11 11 val. 11 min. 11 sekundės\"\n",
    "ateitis = datetime.strptime(ateities_tekstas, datos_laiko_formatas)\n",
    "print(ateitis, type(ateitis))"
   ]
  },
  {
   "cell_type": "code",
   "execution_count": 18,
   "metadata": {},
   "outputs": [
    {
     "name": "stdout",
     "output_type": "stream",
     "text": [
      "664 days, 23:52:14.829039\n"
     ]
    }
   ],
   "source": [
    "print(ateitis - datetime.now())"
   ]
  },
  {
   "cell_type": "code",
   "execution_count": 19,
   "metadata": {},
   "outputs": [],
   "source": [
    "import time"
   ]
  },
  {
   "cell_type": "code",
   "execution_count": 20,
   "metadata": {},
   "outputs": [
    {
     "name": "stdout",
     "output_type": "stream",
     "text": [
      "416935842.0\n"
     ]
    }
   ],
   "source": [
    "gimtalaikio_ts = time.mktime(gimtalaikis.timetuple())\n",
    "print(gimtalaikio_ts)"
   ]
  },
  {
   "cell_type": "code",
   "execution_count": 21,
   "metadata": {},
   "outputs": [
    {
     "name": "stdout",
     "output_type": "stream",
     "text": [
      "1705396736.0\n"
     ]
    }
   ],
   "source": [
    "dabarties_ts = time.mktime(datetime.now().timetuple())\n",
    "print(dabarties_ts)"
   ]
  },
  {
   "cell_type": "code",
   "execution_count": 22,
   "metadata": {},
   "outputs": [
    {
     "name": "stdout",
     "output_type": "stream",
     "text": [
      "2024-01-16 11:18:56\n"
     ]
    }
   ],
   "source": [
    "dto = datetime.fromtimestamp(dabarties_ts)\n",
    "print(dto)"
   ]
  },
  {
   "cell_type": "code",
   "execution_count": 23,
   "metadata": {},
   "outputs": [
    {
     "name": "stdout",
     "output_type": "stream",
     "text": [
      "Liko 1 dienos (-ų) iki gimtadienio.\n"
     ]
    }
   ],
   "source": [
    "from datetime import datetime, date\n",
    "\n",
    "def dienos_iki_gimtadienio(gimimo_data):\n",
    "    gimimo_data_format = datetime.strptime(gimimo_data, \"%Y-%m-%d\")\n",
    "    siandiena = date.today()\n",
    "    siandiena = datetime(siandiena.year, siandiena.month, siandiena.day)\n",
    "    gimtadienio_data = gimimo_data_format.replace(year=siandiena.year)\n",
    "\n",
    "    if gimtadienio_data < siandiena:\n",
    "        gimtadienio_data = gimtadienio_data.replace(year=siandiena.year + 1)\n",
    "\n",
    "    skirtumas = gimtadienio_data - siandiena\n",
    "    return skirtumas.days\n",
    "\n",
    "gimimo_data = \"2000-01-17\"\n",
    "print(f\"Liko {dienos_iki_gimtadienio(gimimo_data)} dienos (-ų) iki gimtadienio.\")"
   ]
  },
  {
   "cell_type": "markdown",
   "metadata": {},
   "source": [
    "## Laiko zonos"
   ]
  },
  {
   "cell_type": "code",
   "execution_count": 24,
   "metadata": {},
   "outputs": [
    {
     "name": "stdout",
     "output_type": "stream",
     "text": [
      "2024-01-16 09:18:56.226659\n"
     ]
    }
   ],
   "source": [
    "print(datetime.utcnow())"
   ]
  },
  {
   "cell_type": "markdown",
   "metadata": {},
   "source": [
    "kad veiktų `zoneinfo` reikia python'o package'o `tzdata` virtualioje aplinkoje\n",
    "\n",
    "```\n",
    "pip install tzdata\n",
    "```"
   ]
  },
  {
   "cell_type": "code",
   "execution_count": 48,
   "metadata": {},
   "outputs": [
    {
     "name": "stdout",
     "output_type": "stream",
     "text": [
      "America/Santarem\n",
      "America/Asuncion\n",
      "America/Maceio\n",
      "Europe/Vienna\n",
      "Pacific/Truk\n",
      "Pacific/Kwajalein\n",
      "America/Argentina/ComodRivadavia\n",
      "America/Yellowknife\n",
      "America/Cayman\n",
      "Asia/Harbin\n",
      "Atlantic/Stanley\n",
      "Europe/Skopje\n",
      "Europe/Belfast\n",
      "America/Havana\n",
      "Pacific/Galapagos\n",
      "America/Argentina/Buenos_Aires\n",
      "America/St_Thomas\n",
      "Australia/Brisbane\n",
      "Europe/Paris\n",
      "Asia/Qyzylorda\n",
      "Navajo\n",
      "America/Aruba\n",
      "Antarctica/Rothera\n",
      "Europe/Podgorica\n",
      "Asia/Yakutsk\n",
      "Africa/Lagos\n",
      "Pacific/Marquesas\n",
      "Africa/Djibouti\n",
      "Greenwich\n",
      "Europe/Busingen\n",
      "America/Denver\n",
      "UTC\n",
      "Asia/Katmandu\n",
      "America/Detroit\n",
      "Asia/Macao\n",
      "Australia/South\n",
      "Etc/UTC\n",
      "America/Mexico_City\n",
      "Europe/Ljubljana\n",
      "Asia/Novokuznetsk\n",
      "Africa/Sao_Tome\n",
      "CST6CDT\n",
      "US/Pacific\n",
      "America/Guadeloupe\n",
      "America/Kralendijk\n",
      "Asia/Almaty\n",
      "Africa/Johannesburg\n",
      "Australia/LHI\n",
      "Asia/Srednekolymsk\n",
      "America/Goose_Bay\n",
      "America/Iqaluit\n",
      "America/Montevideo\n",
      "America/Atikokan\n",
      "Antarctica/Troll\n",
      "America/Regina\n",
      "America/Managua\n",
      "Etc/GMT+4\n",
      "Kwajalein\n",
      "America/Nuuk\n",
      "Atlantic/Faeroe\n",
      "Egypt\n",
      "GB-Eire\n",
      "America/Ojinaga\n",
      "Europe/Isle_of_Man\n",
      "Atlantic/Cape_Verde\n",
      "Asia/Calcutta\n",
      "Asia/Kolkata\n",
      "America/Ciudad_Juarez\n",
      "Asia/Thimphu\n",
      "Asia/Atyrau\n",
      "Asia/Khandyga\n",
      "America/Argentina/La_Rioja\n",
      "Europe/Gibraltar\n",
      "Etc/GMT+12\n",
      "Etc/Greenwich\n",
      "America/Grand_Turk\n",
      "Pacific/Funafuti\n",
      "Pacific/Guadalcanal\n",
      "Europe/Belgrade\n",
      "Asia/Kashgar\n",
      "Asia/Bangkok\n",
      "Antarctica/DumontDUrville\n",
      "Africa/Windhoek\n",
      "America/Santiago\n",
      "America/Buenos_Aires\n",
      "America/Campo_Grande\n",
      "Atlantic/Reykjavik\n",
      "Pacific/Wake\n",
      "Asia/Hong_Kong\n",
      "Asia/Colombo\n",
      "Israel\n",
      "America/Marigot\n",
      "Africa/Casablanca\n",
      "Asia/Ulan_Bator\n",
      "Etc/GMT+1\n",
      "Europe/Bucharest\n",
      "America/Danmarkshavn\n",
      "America/Indiana/Marengo\n",
      "Africa/Harare\n",
      "Canada/Pacific\n",
      "America/Anchorage\n",
      "America/Sitka\n",
      "Asia/Thimbu\n",
      "Eire\n",
      "Hongkong\n",
      "Etc/GMT-2\n",
      "Asia/Krasnoyarsk\n",
      "America/Swift_Current\n",
      "Africa/Mbabane\n",
      "Atlantic/St_Helena\n",
      "Europe/Prague\n",
      "Australia/Adelaide\n",
      "America/Toronto\n",
      "Europe/Athens\n",
      "America/North_Dakota/New_Salem\n",
      "Pacific/Pitcairn\n",
      "America/Argentina/Jujuy\n",
      "Etc/GMT+6\n",
      "America/Cambridge_Bay\n",
      "Etc/GMT+10\n",
      "Asia/Yerevan\n",
      "America/Fort_Nelson\n",
      "Europe/Nicosia\n",
      "NZ-CHAT\n",
      "America/Nome\n",
      "Asia/Dushanbe\n",
      "Africa/Ndjamena\n",
      "Asia/Kuwait\n",
      "America/Adak\n",
      "America/Nassau\n",
      "Pacific/Johnston\n",
      "America/Nipigon\n",
      "Indian/Chagos\n",
      "Pacific/Chuuk\n",
      "Europe/Guernsey\n",
      "Asia/Ust-Nera\n",
      "Japan\n",
      "Europe/Copenhagen\n",
      "Singapore\n",
      "Indian/Cocos\n",
      "America/North_Dakota/Beulah\n",
      "Antarctica/Davis\n",
      "America/Halifax\n",
      "America/Tortola\n",
      "Etc/GMT-3\n",
      "Europe/Vaduz\n",
      "Asia/Hebron\n",
      "Atlantic/South_Georgia\n",
      "US/Aleutian\n",
      "America/Guatemala\n",
      "PST8PDT\n",
      "Etc/GMT+5\n",
      "America/Jujuy\n",
      "America/Edmonton\n",
      "Europe/Bratislava\n",
      "America/Argentina/San_Juan\n",
      "US/Indiana-Starke\n",
      "Europe/London\n",
      "Asia/Ho_Chi_Minh\n",
      "America/Barbados\n",
      "Africa/Kigali\n",
      "Africa/Khartoum\n",
      "America/Hermosillo\n",
      "Pacific/Chatham\n",
      "Pacific/Tahiti\n",
      "Africa/Banjul\n",
      "Etc/GMT-1\n",
      "America/Montserrat\n",
      "Iran\n",
      "Asia/Tehran\n",
      "Asia/Bishkek\n",
      "Asia/Gaza\n",
      "America/Mendoza\n",
      "Europe/Malta\n",
      "America/Costa_Rica\n",
      "Etc/GMT-9\n",
      "Atlantic/Madeira\n",
      "Antarctica/Macquarie\n",
      "Portugal\n",
      "Europe/Zagreb\n",
      "Asia/Kuching\n",
      "Canada/Newfoundland\n",
      "Pacific/Pohnpei\n",
      "America/Dawson\n",
      "Africa/Gaborone\n",
      "Etc/Universal\n",
      "Iceland\n",
      "Africa/Tunis\n",
      "Asia/Hovd\n",
      "America/Rankin_Inlet\n",
      "Asia/Rangoon\n",
      "America/Merida\n",
      "Asia/Taipei\n",
      "America/Argentina/Cordoba\n",
      "America/Atka\n",
      "Etc/GMT+8\n",
      "Europe/Budapest\n",
      "America/Phoenix\n",
      "Asia/Aqtobe\n",
      "Pacific/Tarawa\n",
      "Europe/Moscow\n",
      "America/Belem\n",
      "Antarctica/Vostok\n",
      "Australia/West\n",
      "Asia/Vladivostok\n",
      "Asia/Tbilisi\n",
      "Pacific/Saipan\n",
      "Europe/Tirane\n",
      "America/Santo_Domingo\n",
      "Australia/Broken_Hill\n",
      "Turkey\n",
      "Antarctica/South_Pole\n",
      "America/Curacao\n",
      "Atlantic/Canary\n",
      "GMT\n",
      "Asia/Bahrain\n",
      "Antarctica/McMurdo\n",
      "America/Boise\n",
      "Asia/Chungking\n",
      "Europe/Brussels\n",
      "Asia/Jakarta\n",
      "Asia/Ujung_Pandang\n",
      "Poland\n",
      "Asia/Vientiane\n",
      "America/Eirunepe\n",
      "Europe/Mariehamn\n",
      "America/Montreal\n",
      "Asia/Dhaka\n",
      "America/Chicago\n",
      "Asia/Kabul\n",
      "Canada/Mountain\n",
      "America/Boa_Vista\n",
      "Asia/Baghdad\n",
      "Asia/Dubai\n",
      "America/Cayenne\n",
      "America/El_Salvador\n",
      "Indian/Mayotte\n",
      "Etc/GMT0\n",
      "ROC\n",
      "America/Mazatlan\n",
      "Zulu\n",
      "America/Thunder_Bay\n",
      "Jamaica\n",
      "Etc/GMT-0\n",
      "Asia/Tokyo\n",
      "America/Fortaleza\n",
      "Asia/Saigon\n",
      "Africa/Mogadishu\n",
      "EET\n",
      "Europe/Zaporozhye\n",
      "Asia/Jerusalem\n",
      "Indian/Kerguelen\n",
      "Africa/Freetown\n",
      "Pacific/Easter\n",
      "Africa/Douala\n",
      "America/Martinique\n",
      "Indian/Mauritius\n",
      "Asia/Oral\n",
      "Europe/Luxembourg\n",
      "Asia/Macau\n",
      "America/Bahia_Banderas\n",
      "Europe/Kaliningrad\n",
      "Australia/Currie\n",
      "America/Anguilla\n",
      "America/Indiana/Vincennes\n",
      "US/Eastern\n",
      "America/Menominee\n",
      "America/Monterrey\n",
      "Australia/Queensland\n",
      "Europe/Volgograd\n",
      "America/Araguaina\n",
      "Africa/Lubumbashi\n",
      "Universal\n",
      "America/Argentina/Ushuaia\n",
      "America/Kentucky/Louisville\n",
      "Canada/Eastern\n",
      "America/Belize\n",
      "Asia/Yekaterinburg\n",
      "Asia/Tomsk\n",
      "Africa/Bangui\n",
      "Europe/Uzhgorod\n",
      "Africa/Timbuktu\n",
      "Asia/Beirut\n",
      "Pacific/Gambier\n",
      "America/New_York\n",
      "Africa/Maputo\n",
      "America/Dawson_Creek\n",
      "Indian/Christmas\n",
      "Europe/Jersey\n",
      "Chile/Continental\n",
      "Etc/GMT+2\n",
      "MST\n",
      "America/Whitehorse\n",
      "America/Antigua\n",
      "Asia/Pyongyang\n",
      "Etc/GMT+7\n",
      "America/Argentina/Tucuman\n",
      "Pacific/Fakaofo\n",
      "Europe/Samara\n",
      "Africa/Dakar\n",
      "Asia/Makassar\n",
      "Canada/Saskatchewan\n",
      "Asia/Barnaul\n",
      "Canada/Atlantic\n",
      "Asia/Samarkand\n",
      "Etc/GMT-6\n",
      "America/Grenada\n",
      "America/Godthab\n",
      "America/Matamoros\n",
      "America/Sao_Paulo\n",
      "Asia/Tashkent\n",
      "Europe/Warsaw\n",
      "Europe/Monaco\n",
      "Africa/Bujumbura\n",
      "Asia/Qostanay\n",
      "Asia/Kathmandu\n",
      "Etc/UCT\n",
      "Atlantic/Jan_Mayen\n",
      "America/Argentina/Catamarca\n",
      "US/Michigan\n",
      "Pacific/Auckland\n",
      "America/St_Lucia\n",
      "Africa/Juba\n",
      "Pacific/Majuro\n",
      "Africa/Bissau\n",
      "America/Indiana/Indianapolis\n",
      "America/Rosario\n",
      "America/Argentina/Salta\n",
      "Etc/GMT-8\n",
      "Asia/Amman\n",
      "Etc/GMT-11\n",
      "America/Chihuahua\n",
      "Etc/Zulu\n",
      "US/Hawaii\n",
      "Atlantic/Bermuda\n",
      "Pacific/Wallis\n",
      "America/Shiprock\n",
      "Etc/GMT\n",
      "America/Indiana/Knox\n",
      "Africa/Asmara\n",
      "Asia/Ashkhabad\n",
      "Europe/Astrakhan\n",
      "America/Argentina/San_Luis\n",
      "Pacific/Apia\n",
      "US/Mountain\n",
      "Libya\n",
      "Africa/Ceuta\n",
      "America/Glace_Bay\n",
      "Africa/Libreville\n",
      "Europe/Saratov\n",
      "America/Indiana/Petersburg\n",
      "Pacific/Guam\n",
      "Arctic/Longyearbyen\n",
      "America/North_Dakota/Center\n",
      "WET\n",
      "US/Alaska\n",
      "Asia/Istanbul\n",
      "America/Metlakatla\n",
      "UCT\n",
      "Brazil/Acre\n",
      "Asia/Aden\n",
      "America/Yakutat\n",
      "Pacific/Midway\n",
      "Africa/Asmera\n",
      "America/Punta_Arenas\n",
      "America/Guayaquil\n",
      "Etc/GMT+11\n",
      "Australia/Melbourne\n",
      "Europe/Minsk\n",
      "Australia/Tasmania\n",
      "Europe/Tiraspol\n",
      "Pacific/Kanton\n",
      "Pacific/Rarotonga\n",
      "Asia/Seoul\n",
      "Asia/Singapore\n",
      "Europe/Ulyanovsk\n",
      "America/Rainy_River\n",
      "America/Tegucigalpa\n",
      "Europe/Istanbul\n",
      "America/Puerto_Rico\n",
      "HST\n",
      "Europe/Kirov\n",
      "Europe/Berlin\n",
      "Africa/Nouakchott\n",
      "Pacific/Palau\n",
      "Australia/Canberra\n",
      "America/Bogota\n",
      "CET\n",
      "America/Virgin\n",
      "Africa/Abidjan\n",
      "Asia/Phnom_Penh\n",
      "Pacific/Samoa\n",
      "Europe/Tallinn\n",
      "Europe/Oslo\n",
      "America/St_Barthelemy\n",
      "Indian/Comoro\n",
      "Pacific/Bougainville\n",
      "America/Los_Angeles\n",
      "Etc/GMT-5\n",
      "Australia/NSW\n",
      "Africa/Maseru\n",
      "Africa/Blantyre\n",
      "America/St_Vincent\n",
      "Pacific/Niue\n",
      "Europe/Stockholm\n",
      "America/Argentina/Rio_Gallegos\n",
      "Africa/Niamey\n",
      "Asia/Shanghai\n",
      "Asia/Ashgabat\n",
      "Europe/Kyiv\n",
      "America/Rio_Branco\n",
      "Europe/Helsinki\n",
      "Asia/Dacca\n",
      "Etc/GMT-12\n",
      "Australia/ACT\n",
      "America/Catamarca\n",
      "Africa/Brazzaville\n",
      "America/Creston\n",
      "America/Port_of_Spain\n",
      "Asia/Omsk\n",
      "America/Manaus\n",
      "Mexico/BajaSur\n",
      "ROK\n",
      "Factory\n",
      "America/Resolute\n",
      "Canada/Yukon\n",
      "EST5EDT\n",
      "Asia/Chongqing\n",
      "Europe/Sofia\n",
      "Antarctica/Casey\n",
      "Asia/Anadyr\n",
      "Australia/Sydney\n",
      "US/East-Indiana\n",
      "Europe/Rome\n",
      "Indian/Antananarivo\n",
      "America/Porto_Acre\n",
      "America/Noronha\n",
      "America/Scoresbysund\n",
      "Africa/Algiers\n",
      "America/Ensenada\n",
      "Brazil/East\n",
      "Brazil/West\n",
      "Europe/Dublin\n",
      "Africa/Cairo\n",
      "Etc/GMT-7\n",
      "Asia/Yangon\n",
      "EST\n",
      "GMT-0\n",
      "Australia/Lindeman\n",
      "America/Dominica\n",
      "America/Argentina/Mendoza\n",
      "America/Caracas\n",
      "Asia/Famagusta\n",
      "America/Blanc-Sablon\n",
      "Africa/El_Aaiun\n",
      "Pacific/Norfolk\n",
      "Australia/Lord_Howe\n",
      "Pacific/Tongatapu\n",
      "America/Lower_Princes\n",
      "Europe/Amsterdam\n",
      "Asia/Baku\n",
      "Europe/Andorra\n",
      "Chile/EasterIsland\n",
      "Brazil/DeNoronha\n",
      "Africa/Lusaka\n",
      "America/Bahia\n",
      "GMT0\n",
      "US/Central\n",
      "Africa/Luanda\n",
      "Asia/Tel_Aviv\n",
      "America/Cordoba\n",
      "Europe/Vatican\n",
      "Europe/Vilnius\n",
      "Mexico/General\n",
      "US/Arizona\n",
      "Europe/Kiev\n",
      "Africa/Tripoli\n",
      "Pacific/Kosrae\n",
      "Indian/Mahe\n",
      "Africa/Kampala\n",
      "Europe/Lisbon\n",
      "Africa/Kinshasa\n",
      "Africa/Malabo\n",
      "Atlantic/Azores\n",
      "Etc/GMT+0\n",
      "Asia/Brunei\n",
      "Antarctica/Syowa\n",
      "Europe/Riga\n",
      "America/Indiana/Winamac\n",
      "Asia/Karachi\n",
      "Australia/Darwin\n",
      "Australia/Perth\n",
      "PRC\n",
      "America/Port-au-Prince\n",
      "Australia/North\n",
      "Asia/Urumqi\n",
      "Asia/Muscat\n",
      "Asia/Jayapura\n",
      "Antarctica/Mawson\n",
      "Africa/Nairobi\n",
      "America/Guyana\n",
      "America/Coral_Harbour\n",
      "Etc/GMT-13\n",
      "America/Moncton\n",
      "America/Fort_Wayne\n",
      "Asia/Qatar\n",
      "America/St_Kitts\n",
      "Europe/Zurich\n",
      "Pacific/Yap\n",
      "Pacific/Efate\n",
      "America/Knox_IN\n",
      "Africa/Addis_Ababa\n",
      "Canada/Central\n",
      "Etc/GMT+9\n",
      "Cuba\n",
      "US/Samoa\n",
      "GMT+0\n",
      "Africa/Bamako\n",
      "Pacific/Noumea\n",
      "America/Paramaribo\n",
      "Europe/Simferopol\n",
      "Etc/GMT-10\n",
      "NZ\n",
      "Africa/Ouagadougou\n",
      "Pacific/Pago_Pago\n",
      "Australia/Victoria\n",
      "America/Indiana/Vevay\n",
      "America/Lima\n",
      "America/Panama\n",
      "Australia/Eucla\n",
      "Asia/Choibalsan\n",
      "America/Jamaica\n",
      "Pacific/Fiji\n",
      "Asia/Kuala_Lumpur\n",
      "Asia/Chita\n",
      "MET\n",
      "Atlantic/Faroe\n",
      "Asia/Magadan\n",
      "W-SU\n",
      "America/Porto_Velho\n",
      "Africa/Lome\n",
      "Asia/Pontianak\n",
      "America/Cuiaba\n",
      "Etc/GMT-14\n",
      "Africa/Conakry\n",
      "America/Indianapolis\n",
      "Asia/Kamchatka\n",
      "America/Santa_Isabel\n",
      "Asia/Manila\n",
      "America/Vancouver\n",
      "Indian/Maldives\n",
      "America/La_Paz\n",
      "Asia/Damascus\n",
      "Pacific/Ponape\n",
      "America/St_Johns\n",
      "America/Thule\n",
      "Asia/Ulaanbaatar\n",
      "Asia/Novosibirsk\n",
      "America/Recife\n",
      "Australia/Hobart\n",
      "Mexico/BajaNorte\n",
      "America/Tijuana\n",
      "America/Inuvik\n",
      "Asia/Nicosia\n",
      "Antarctica/Palmer\n",
      "America/Indiana/Tell_City\n",
      "Asia/Sakhalin\n",
      "Europe/Madrid\n",
      "America/Cancun\n",
      "Pacific/Honolulu\n",
      "Pacific/Nauru\n",
      "America/Juneau\n",
      "Etc/GMT+3\n",
      "Europe/San_Marino\n",
      "Asia/Dili\n",
      "America/Kentucky/Monticello\n",
      "America/Winnipeg\n",
      "Africa/Porto-Novo\n",
      "Etc/GMT-4\n",
      "Asia/Aqtau\n",
      "Africa/Accra\n",
      "Pacific/Kiritimati\n",
      "Africa/Monrovia\n",
      "Europe/Sarajevo\n",
      "Europe/Chisinau\n",
      "Australia/Yancowinna\n",
      "MST7MDT\n",
      "America/Miquelon\n",
      "Pacific/Enderbury\n",
      "Pacific/Port_Moresby\n",
      "Africa/Dar_es_Salaam\n",
      "America/Pangnirtung\n",
      "Asia/Irkutsk\n",
      "Indian/Reunion\n",
      "GB\n",
      "Asia/Riyadh\n",
      "America/Louisville\n"
     ]
    }
   ],
   "source": [
    "from zoneinfo import available_timezones\n",
    "for zone in available_timezones():\n",
    "    print(zone)"
   ]
  },
  {
   "cell_type": "code",
   "execution_count": 53,
   "metadata": {},
   "outputs": [
    {
     "name": "stdout",
     "output_type": "stream",
     "text": [
      "2024-01-16 16:00:00+02:00\n"
     ]
    }
   ],
   "source": [
    "from zoneinfo import ZoneInfo\n",
    "paskaita_baigsis = datetime(2024, 1, 16, 16, \n",
    "                            tzinfo=ZoneInfo(\"Europe/Vilnius\"))\n",
    "print(paskaita_baigsis)"
   ]
  },
  {
   "cell_type": "code",
   "execution_count": 54,
   "metadata": {},
   "outputs": [
    {
     "name": "stdout",
     "output_type": "stream",
     "text": [
      "Europe/Vilnius\n"
     ]
    }
   ],
   "source": [
    "print(paskaita_baigsis.tzinfo)"
   ]
  },
  {
   "cell_type": "code",
   "execution_count": 55,
   "metadata": {},
   "outputs": [
    {
     "name": "stdout",
     "output_type": "stream",
     "text": [
      "2024-01-16 11:30:47.756051+02:00\n"
     ]
    }
   ],
   "source": [
    "dabar_utc = datetime.utcnow().replace(tzinfo=ZoneInfo(\"UTC\"))\n",
    "dabar_lietuvoje = dabar_utc.astimezone(ZoneInfo(\"Europe/Vilnius\"))\n",
    "print(dabar_lietuvoje)"
   ]
  },
  {
   "cell_type": "code",
   "execution_count": 56,
   "metadata": {},
   "outputs": [
    {
     "name": "stdout",
     "output_type": "stream",
     "text": [
      "4:29:12.243949\n"
     ]
    }
   ],
   "source": [
    "iki_galo_liko = paskaita_baigsis - dabar_lietuvoje\n",
    "print(iki_galo_liko)"
   ]
  },
  {
   "cell_type": "code",
   "execution_count": 59,
   "metadata": {},
   "outputs": [
    {
     "name": "stdout",
     "output_type": "stream",
     "text": [
      "4:28:10.237440\n"
     ]
    }
   ],
   "source": [
    "print(paskaita_baigsis - datetime.utcnow().replace(tzinfo=ZoneInfo(\"UTC\")))"
   ]
  },
  {
   "cell_type": "code",
   "execution_count": 64,
   "metadata": {},
   "outputs": [
    {
     "name": "stdout",
     "output_type": "stream",
     "text": [
      "2024-01-16 11:36:34.376935+02:00\n"
     ]
    }
   ],
   "source": [
    "kitaip_dabar_lt = datetime.now().replace(tzinfo=ZoneInfo(\"Europe/Vilnius\"))\n",
    "print(kitaip_dabar_lt)"
   ]
  }
 ],
 "metadata": {
  "kernelspec": {
   "display_name": "Python 3",
   "language": "python",
   "name": "python3"
  },
  "language_info": {
   "codemirror_mode": {
    "name": "ipython",
    "version": 3
   },
   "file_extension": ".py",
   "mimetype": "text/x-python",
   "name": "python",
   "nbconvert_exporter": "python",
   "pygments_lexer": "ipython3",
   "version": "3.11.7"
  }
 },
 "nbformat": 4,
 "nbformat_minor": 2
}
